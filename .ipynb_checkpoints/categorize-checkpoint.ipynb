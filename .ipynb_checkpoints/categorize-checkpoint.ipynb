{
 "cells": [
  {
   "cell_type": "code",
   "execution_count": 3,
   "id": "aba1b526-b51d-434e-9b9a-3a2db91eed19",
   "metadata": {
    "tags": []
   },
   "outputs": [],
   "source": [
    "import os\n",
    "data_dir = '../dms_data'\n",
    "train_data_path =  os.path.join(data_dir,'train')\n",
    "test_data_path = os.path.join(data_dir,'test')\n",
    "#train_data_path =  data_dir + '/train'\n",
    "#test_data_path = data_dir + '/test'\n",
    "train_file = os.path.join(train_data_path,'20201126_1546_0_y_train.csv') \n",
    "test_file = os.path.join(test_data_path, '20201126_1546_0_y_test.csv')"
   ]
  },
  {
   "cell_type": "code",
   "execution_count": 4,
   "id": "08c6fc74-ac8d-4758-a07f-41b5f9634e46",
   "metadata": {
    "tags": []
   },
   "outputs": [],
   "source": [
    "import pandas as pd\n",
    "import numpy as np\n",
    "import itertools\n",
    "import lightgbm as lgb\n",
    "from sklearn.metrics import mean_squared_error\n",
    "from sklearn.model_selection import train_test_split\n",
    "from sklearn.ensemble import RandomForestRegressor\n",
    "from sklearn.svm import SVR\n",
    "from tensorflow.keras.models import Sequential\n",
    "from tensorflow.keras.layers import Dense\n",
    "from tensorflow.keras.optimizers import Adam\n",
    "from sklearn.linear_model import LinearRegression\n",
    "from keras.utils import to_categorical"
   ]
  },
  {
   "cell_type": "code",
   "execution_count": null,
   "id": "55c1d01a-885a-4435-ac46-ab4b1eee9bc3",
   "metadata": {},
   "outputs": [],
   "source": [
    "# Define features\n",
    "features = ['m_speed', 'm_speed_var_480', 'm_speed_stddev_480', 'm_acceleration',\n",
    "            'm_acceleration_var_480', 'm_acceleration_stddev_480', 'm_jerk',\n",
    "            'm_jerk_var_480', 'm_jerk_stddev_480']\n",
    "\n",
    "train = pd.read_csv(train_file).drop(columns=['timestamp']).dropna();\n",
    "test = pd.read_csv(test_file).drop(columns=['timestamp']).dropna();\n"
   ]
  }
 ],
 "metadata": {
  "kernelspec": {
   "display_name": "Python 3 (ipykernel)",
   "language": "python",
   "name": "python3"
  },
  "language_info": {
   "codemirror_mode": {
    "name": "ipython",
    "version": 3
   },
   "file_extension": ".py",
   "mimetype": "text/x-python",
   "name": "python",
   "nbconvert_exporter": "python",
   "pygments_lexer": "ipython3",
   "version": "3.11.3"
  }
 },
 "nbformat": 4,
 "nbformat_minor": 5
}
