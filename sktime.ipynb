{
 "cells": [
  {
   "cell_type": "code",
   "execution_count": 1,
   "metadata": {},
   "outputs": [
    {
     "name": "stderr",
     "output_type": "stream",
     "text": [
      "2023-10-06 14:36:58.451600: I tensorflow/tsl/cuda/cudart_stub.cc:28] Could not find cuda drivers on your machine, GPU will not be used.\n",
      "2023-10-06 14:36:58.493116: I tensorflow/tsl/cuda/cudart_stub.cc:28] Could not find cuda drivers on your machine, GPU will not be used.\n",
      "2023-10-06 14:36:58.493636: I tensorflow/core/platform/cpu_feature_guard.cc:182] This TensorFlow binary is optimized to use available CPU instructions in performance-critical operations.\n",
      "To enable the following instructions: AVX2 FMA, in other operations, rebuild TensorFlow with the appropriate compiler flags.\n",
      "2023-10-06 14:36:59.249370: W tensorflow/compiler/tf2tensorrt/utils/py_utils.cc:38] TF-TRT Warning: Could not find TensorRT\n"
     ]
    }
   ],
   "source": [
    "import os\n",
    "import pandas as pd\n",
    "import numpy as np\n",
    "import itertools\n",
    "import lightgbm as lgb\n",
    "from sklearn.metrics import mean_squared_error\n",
    "from sklearn.model_selection import train_test_split\n",
    "from sklearn.ensemble import RandomForestRegressor\n",
    "from sklearn.svm import SVR\n",
    "from tensorflow.keras.models import Sequential\n",
    "from tensorflow.keras.layers import Dense\n",
    "from tensorflow.keras.optimizers import Adam\n",
    "from sklearn.linear_model import LinearRegression"
   ]
  },
  {
   "cell_type": "code",
   "execution_count": 2,
   "metadata": {},
   "outputs": [],
   "source": [
    "DATA_DIR = './dms_data'\n",
    "N_TRIALS = 50"
   ]
  },
  {
   "cell_type": "code",
   "execution_count": 3,
   "metadata": {},
   "outputs": [],
   "source": [
    "\n",
    "def load_and_preprocess_data(file_path):\n",
    "    \"\"\"CSVを読み込んで前処理する関数。\"\"\"\n",
    "    df = pd.read_csv(file_path)\n",
    "    df = df.drop(['timestamp'], axis=1)\n",
    "    return df.dropna()\n",
    "\n",
    "def get_data_from_directory(directory_path):\n",
    "    \"\"\"指定ディレクトリのCSV全部を読み込んで結合する関数。\"\"\"\n",
    "    files = [f for f in os.listdir(directory_path) if f.endswith('.csv')]\n",
    "    data_frames = [load_and_preprocess_data(os.path.join(directory_path, file)) for file in files]\n",
    "    return pd.concat(data_frames, ignore_index=True)\n",
    "\n",
    "# トレインデータとテストデータを読み込む\n",
    "train = get_data_from_directory(os.path.join(DATA_DIR, 'train'))\n",
    "test = get_data_from_directory(os.path.join(DATA_DIR, 'test'))\n",
    "\n",
    "# 特徴量を定義\n",
    "features = [\n",
    "    'm_speed', 'm_speed_var_480', 'm_speed_stddev_480', 'm_acceleration',\n",
    "    'm_acceleration_var_480', 'm_acceleration_stddev_480', 'm_jerk',\n",
    "    'm_jerk_var_480', 'm_jerk_stddev_480'\n",
    "]\n",
    "    \n",
    "def evaluate_model(model, X, y):\n",
    "    \"\"\"モデルの評価。RMSE\"\"\"\n",
    "    predictions = model.predict(X)\n",
    "    return np.sqrt(mean_squared_error(y, predictions))\n",
    "\n",
    "def printResults(rmse_results,title):\n",
    "    mean_rmse = np.mean(rmse_results)\n",
    "    median_rmse = np.median(rmse_results)\n",
    "    variance_rmse = np.var(rmse_results)\n",
    "    std_rmse = np.std(rmse_results)\n",
    "    min_rmse = np.min(rmse_results)\n",
    "    max_rmse = np.max(rmse_results)\n",
    "\n",
    "    # 統計量を表示\n",
    "    print(f\"[{title}]RMSEの平均値: {mean_rmse}\")\n",
    "    print(f\"[{title}]RMSEの中央値: {median_rmse}\")\n",
    "    print(f\"[{title}]RMSEの分散: {variance_rmse}\")\n",
    "    print(f\"[{title}]RMSEの標準偏差: {std_rmse}\")\n",
    "    print(f\"[{title}]RMSEの最小値: {min_rmse}\")\n",
    "    print(f\"[{title}]RMSEの最大値: {max_rmse}\")"
   ]
  },
  {
   "cell_type": "code",
   "execution_count": 8,
   "metadata": {},
   "outputs": [
    {
     "name": "stdout",
     "output_type": "stream",
     "text": [
      "[('test', '20201126_1546_0_y_test.csv', 36), ('test', '20201127_1432_7_y_test.csv', 35), ('test', '20201127_1548_2_y_test.csv', 36), ('test', '20201127_1701_7_y_test.csv', 35), ('test', '20201127_1840_5_y_test.csv', 36), ('test', '20201130_1122_5_y_test.csv', 37), ('test', '20201130_1808_6_y_test.csv', 37), ('test', '20201201_1230_0_y_test.csv', 37), ('test', '20201201_1429_5_y_test.csv', 36), ('test', '20201201_1555_0_y_test.csv', 36), ('test', '20201203_1022_7_y_test.csv', 36), ('test', '20201203_1244_5_y_test.csv', 36), ('test', '20201203_1404_6_y_test.csv', 36), ('test', '20201210_1112_2_y_test.csv', 35), ('test', '20201210_1354_2_y_test.csv', 35), ('test', '20201210_1610_6_y_test.csv', 38), ('train', '20201126_1546_0_y_train.csv', 144), ('train', '20201127_1432_7_y_train.csv', 141), ('train', '20201127_1548_2_y_train.csv', 146), ('train', '20201127_1701_7_y_train.csv', 141), ('train', '20201127_1840_5_y_train.csv', 145), ('train', '20201130_1122_5_y_train.csv', 151), ('train', '20201130_1808_6_y_train.csv', 152), ('train', '20201201_1230_0_y_train.csv', 149), ('train', '20201201_1429_5_y_train.csv', 145), ('train', '20201201_1555_0_y_train.csv', 144), ('train', '20201203_1022_7_y_train.csv', 144), ('train', '20201203_1244_5_y_train.csv', 144), ('train', '20201203_1404_6_y_train.csv', 144), ('train', '20201210_1112_2_y_train.csv', 144), ('train', '20201210_1354_2_y_train.csv', 143), ('train', '20201210_1610_6_y_train.csv', 152)]\n"
     ]
    },
    {
     "data": {
      "text/plain": [
       "('test', '20201127_1432_7_y_test.csv', 35)"
      ]
     },
     "execution_count": 8,
     "metadata": {},
     "output_type": "execute_result"
    }
   ],
   "source": [
    "#print(train_data.head())\n",
    "#print(train_data.describe())\n",
    "\n",
    "data_dir = DATA_DIR  # データのディレクトリパス\n",
    "data_lengths = []\n",
    "\n",
    "# `test` と `train` ディレクトリ内の各CSVファイルのデータ長を確認\n",
    "for dataset_type in ['test', 'train']:\n",
    "    dataset_path = os.path.join(data_dir, dataset_type)\n",
    "    csv_files = [f for f in os.listdir(dataset_path) if f.endswith('.csv')]\n",
    "    for csv_file in csv_files:\n",
    "        csv_path = os.path.join(dataset_path, csv_file)\n",
    "        df = pd.read_csv(csv_path)\n",
    "        data_lengths.append((dataset_type, csv_file, len(df)))\n",
    "print(data_lengths)\n",
    "# データの長さが最小のものを確認\n",
    "min_length_data = min(data_lengths, key=lambda x: x[2])\n",
    "min_length_data\n",
    "\n"
   ]
  }
 ],
 "metadata": {
  "kernelspec": {
   "display_name": "Python 3 (ipykernel)",
   "language": "python",
   "name": "python3"
  },
  "language_info": {
   "codemirror_mode": {
    "name": "ipython",
    "version": 3
   },
   "file_extension": ".py",
   "mimetype": "text/x-python",
   "name": "python",
   "nbconvert_exporter": "python",
   "pygments_lexer": "ipython3",
   "version": "3.9.16"
  },
  "orig_nbformat": 4
 },
 "nbformat": 4,
 "nbformat_minor": 2
}
