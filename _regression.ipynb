{
 "cells": [
  {
   "cell_type": "code",
   "execution_count": 12,
   "metadata": {},
   "outputs": [],
   "source": [
    "import os\n",
    "import pandas as pd\n",
    "import numpy as np\n",
    "import itertools\n",
    "import lightgbm as lgb\n",
    "from sklearn.metrics import mean_squared_error\n",
    "from sklearn.model_selection import train_test_split\n",
    "from sklearn.ensemble import RandomForestRegressor\n",
    "from sklearn.svm import SVR\n",
    "from tensorflow.keras.models import Sequential\n",
    "from tensorflow.keras.layers import Dense\n",
    "from tensorflow.keras.optimizers import Adam\n",
    "from sklearn.linear_model import LinearRegression"
   ]
  },
  {
   "cell_type": "code",
   "execution_count": 13,
   "metadata": {},
   "outputs": [],
   "source": [
    "DATA_DIR = './dms_data'\n",
    "N_TRIALS = 2"
   ]
  },
  {
   "cell_type": "code",
   "execution_count": 14,
   "metadata": {},
   "outputs": [],
   "source": [
    "\n",
    "def load_and_preprocess_data(file_path):\n",
    "    \"\"\"CSVを読み込んで前処理する関数。\"\"\"\n",
    "    df = pd.read_csv(file_path)\n",
    "    df = df.drop(['timestamp'], axis=1)\n",
    "    return df.dropna()\n",
    "\n",
    "def get_data_from_directory(directory_path):\n",
    "    \"\"\"指定ディレクトリのCSV全部を読み込んで結合する関数。\"\"\"\n",
    "    files = [f for f in os.listdir(directory_path) if f.endswith('.csv')]\n",
    "    data_frames = [load_and_preprocess_data(os.path.join(directory_path, file)) for file in files]\n",
    "    return pd.concat(data_frames, ignore_index=True)\n",
    "\n",
    "# トレインデータとテストデータを読み込む\n",
    "train = get_data_from_directory(os.path.join(DATA_DIR, 'train'))\n",
    "test = get_data_from_directory(os.path.join(DATA_DIR, 'test'))\n",
    "\n",
    "# 特徴量を定義\n",
    "features = [\n",
    "    'm_speed', 'm_speed_var_480', 'm_speed_stddev_480', 'm_acceleration',\n",
    "    'm_acceleration_var_480', 'm_acceleration_stddev_480', 'm_jerk',\n",
    "    'm_jerk_var_480', 'm_jerk_stddev_480'\n",
    "]\n",
    "    \n",
    "def evaluate_model(model, X, y):\n",
    "    \"\"\"モデルの評価。RMSE\"\"\"\n",
    "    predictions = model.predict(X)\n",
    "    return np.sqrt(mean_squared_error(y, predictions))\n",
    "\n",
    "def printResults(rmse_results,title):\n",
    "    mean_rmse = np.mean(rmse_results)\n",
    "    median_rmse = np.median(rmse_results)\n",
    "    variance_rmse = np.var(rmse_results)\n",
    "    std_rmse = np.std(rmse_results)\n",
    "    min_rmse = np.min(rmse_results)\n",
    "    max_rmse = np.max(rmse_results)\n",
    "\n",
    "    # 統計量を表示\n",
    "    print(f\"[{title}]RMSEの平均値: {mean_rmse}\")\n",
    "    print(f\"[{title}]RMSEの中央値: {median_rmse}\")\n",
    "    print(f\"[{title}]RMSEの分散: {variance_rmse}\")\n",
    "    print(f\"[{title}]RMSEの標準偏差: {std_rmse}\")\n",
    "    print(f\"[{title}]RMSEの最小値: {min_rmse}\")\n",
    "    print(f\"[{title}]RMSEの最大値: {max_rmse}\")"
   ]
  },
  {
   "cell_type": "code",
   "execution_count": 15,
   "metadata": {},
   "outputs": [],
   "source": [
    "# oss_variance = train_data['oss'].var()\n",
    "# sleepiness_variance = train_data['Sleepiness'].var()\n",
    "\n",
    "# print(f\"ossの分散: {oss_variance}\")\n",
    "# print(f\"Sleepinessの分散: {sleepiness_variance}\")\n",
    "# print(train_data.head())\n",
    "# print(train_data.describe())\n"
   ]
  },
  {
   "cell_type": "markdown",
   "metadata": {},
   "source": [
    "### LightGBM"
   ]
  },
  {
   "cell_type": "code",
   "execution_count": 16,
   "metadata": {},
   "outputs": [],
   "source": [
    "# def train_lightgbm(X, y):\n",
    "#     X_train, X_val, y_train, y_val = train_test_split(X, y, test_size=0.2, random_state=42)\n",
    "#     train_data = lgb.Dataset(X_train, label=y_train)\n",
    "#     eval_data = lgb.Dataset(X_val, label=y_val, reference=train_data)\n",
    "#     params = {\n",
    "#         'objective': 'regression',\n",
    "#         'metric': 'rmse',\n",
    "#         'verbose': 0\n",
    "#     }\n",
    "#     model = lgb.train(params, train_data, valid_sets=eval_data)\n",
    "#     return model, X_val, y_val\n",
    "\n",
    "# def evaluate_trials(X, y):\n",
    "#     rmses = []\n",
    "#     for _ in range(N_TRIALS):\n",
    "#         model, X_val, y_val = train_lightgbm(X, y)\n",
    "#         rmse = np.sqrt(mean_squared_error(y_val, model.predict(X_val)))\n",
    "#         rmses.append(rmse)\n",
    "#     return rmses\n",
    "def train_lightgbm_full(X, y):\n",
    "    \"\"\"Train LightGBM model on the full training data.\"\"\"\n",
    "    train_data = lgb.Dataset(X, label=y)\n",
    "    params = {\n",
    "        'objective': 'regression',\n",
    "        'metric': 'rmse',\n",
    "        'verbose': -1\n",
    "    }\n",
    "    model = lgb.train(params, train_data)\n",
    "    return model\n",
    "\n",
    "def evaluate_on_test(model, X_test, y_test):\n",
    "    \"\"\"Evaluate model on the test data.\"\"\"\n",
    "    predictions = model.predict(X_test)\n",
    "    return np.sqrt(mean_squared_error(y_test, predictions))\n",
    "\n",
    "def evaluate_trials_with_test(X, y, X_test, y_test):\n",
    "    rmses_train = []\n",
    "    rmses_test = []\n",
    "    for _ in range(N_TRIALS):\n",
    "        model = train_lightgbm_full(X, y)\n",
    "        rmse_train = evaluate_model(model, X, y)\n",
    "        rmse_test = evaluate_on_test(model, X_test, y_test)\n",
    "        rmses_train.append(rmse_train)\n",
    "        rmses_test.append(rmse_test)\n",
    "    return rmses_train, rmses_test"
   ]
  },
  {
   "cell_type": "code",
   "execution_count": 17,
   "metadata": {},
   "outputs": [],
   "source": [
    "# train_data = get_data_from_directory(os.path.join(DATA_DIR, 'train'))\n",
    "# X = train_data.drop(['oss', 'Sleepiness'], axis=1)\n",
    "\n",
    "# # ossモデル\n",
    "# oss_rmses = evaluate_trials(X, train_data['oss'])\n",
    "# printResults(oss_rmses,'lgbm-oss')\n",
    "\n",
    "# # Sleepinessモデル\n",
    "# sleepiness_rmses = evaluate_trials(X, train_data['Sleepiness'])\n",
    "# printResults(sleepiness_rmses,'lgbm-sleepiness')\n",
    "train_data = get_data_from_directory(os.path.join(DATA_DIR, 'train'))\n",
    "X = train_data.drop(['oss', 'Sleepiness'], axis=1)\n",
    "\n",
    "test_data = get_data_from_directory(os.path.join(DATA_DIR, 'test'))\n",
    "X_test = test_data.drop(['oss', 'Sleepiness'], axis=1)"
   ]
  },
  {
   "cell_type": "code",
   "execution_count": 18,
   "metadata": {},
   "outputs": [
    {
     "name": "stdout",
     "output_type": "stream",
     "text": [
      "[lgbm-oss-train]RMSEの平均値: 0.12457814822031583\n",
      "[lgbm-oss-train]RMSEの中央値: 0.12457814822031583\n",
      "[lgbm-oss-train]RMSEの分散: 0.0\n",
      "[lgbm-oss-train]RMSEの標準偏差: 0.0\n",
      "[lgbm-oss-train]RMSEの最小値: 0.12457814822031583\n",
      "[lgbm-oss-train]RMSEの最大値: 0.12457814822031583\n",
      "[lgbm-oss-test]RMSEの平均値: 0.541056204141207\n",
      "[lgbm-oss-test]RMSEの中央値: 0.541056204141207\n",
      "[lgbm-oss-test]RMSEの分散: 0.0\n",
      "[lgbm-oss-test]RMSEの標準偏差: 0.0\n",
      "[lgbm-oss-test]RMSEの最小値: 0.541056204141207\n",
      "[lgbm-oss-test]RMSEの最大値: 0.541056204141207\n"
     ]
    }
   ],
   "source": [
    "oss_rmses_train, oss_rmses_test = evaluate_trials_with_test(X, train_data['oss'], X_test, test_data['oss'])\n",
    "printResults(oss_rmses_train, 'lgbm-oss-train')\n",
    "printResults(oss_rmses_test, 'lgbm-oss-test')"
   ]
  },
  {
   "cell_type": "code",
   "execution_count": 19,
   "metadata": {},
   "outputs": [
    {
     "name": "stdout",
     "output_type": "stream",
     "text": [
      "[lgbm-sleepiness-train]RMSEの平均値: 0.22518856302682227\n",
      "[lgbm-sleepiness-train]RMSEの中央値: 0.22518856302682227\n",
      "[lgbm-sleepiness-train]RMSEの分散: 0.0\n",
      "[lgbm-sleepiness-train]RMSEの標準偏差: 0.0\n",
      "[lgbm-sleepiness-train]RMSEの最小値: 0.22518856302682227\n",
      "[lgbm-sleepiness-train]RMSEの最大値: 0.22518856302682227\n",
      "[lgbm-sleepiness-test]RMSEの平均値: 1.3758729110252772\n",
      "[lgbm-sleepiness-test]RMSEの中央値: 1.3758729110252772\n",
      "[lgbm-sleepiness-test]RMSEの分散: 0.0\n",
      "[lgbm-sleepiness-test]RMSEの標準偏差: 0.0\n",
      "[lgbm-sleepiness-test]RMSEの最小値: 1.3758729110252772\n",
      "[lgbm-sleepiness-test]RMSEの最大値: 1.3758729110252772\n"
     ]
    }
   ],
   "source": [
    "sleepiness_rmses_train, sleepiness_rmses_test = evaluate_trials_with_test(X, train_data['Sleepiness'], X_test, test_data['Sleepiness'])\n",
    "printResults(sleepiness_rmses_train, 'lgbm-sleepiness-train')\n",
    "printResults(sleepiness_rmses_test, 'lgbm-sleepiness-test')"
   ]
  },
  {
   "cell_type": "markdown",
   "metadata": {},
   "source": [
    "### GNN"
   ]
  },
  {
   "cell_type": "code",
   "execution_count": 20,
   "metadata": {},
   "outputs": [
    {
     "name": "stderr",
     "output_type": "stream",
     "text": [
      "Exception ignored in: <function _xla_gc_callback at 0x7f5e45ab3160>\n",
      "Traceback (most recent call last):\n",
      "  File \"/home/buntin/jupyter-env/lib64/python3.9/site-packages/jax/_src/lib/__init__.py\", line 103, in _xla_gc_callback\n",
      "    def _xla_gc_callback(*args):\n",
      "KeyboardInterrupt: \n"
     ]
    }
   ],
   "source": [
    "import torch\n",
    "import torch.nn.functional as F\n",
    "from torch_geometric.nn import GCNConv\n",
    "from torch_geometric.data import Data"
   ]
  },
  {
   "cell_type": "code",
   "execution_count": null,
   "metadata": {},
   "outputs": [],
   "source": [
    "def transform_to_graph_data(X, y):\n",
    "    x = torch.tensor(X.values, dtype=torch.float)\n",
    "    edge_index = torch.tensor([list(range(X.shape[0]-1)), list(range(1, X.shape[0]))], dtype=torch.long)\n",
    "    y = torch.tensor(y.values, dtype=torch.float).view(-1, 1)\n",
    "    data = Data(x=x, edge_index=edge_index, y=y)\n",
    "    return data\n",
    "\n",
    "class SimpleGNN(torch.nn.Module):\n",
    "    def __init__(self, num_features):\n",
    "        super(SimpleGNN, self).__init__()\n",
    "        self.conv1 = GCNConv(num_features, 64)\n",
    "        self.conv2 = GCNConv(64, 32)\n",
    "        self.fc = torch.nn.Linear(32, 1)\n",
    "\n",
    "    def forward(self, data):\n",
    "        x, edge_index = data.x, data.edge_index\n",
    "        x = self.conv1(x, edge_index)\n",
    "        x = F.relu(x)\n",
    "        x = self.conv2(x, edge_index)\n",
    "        x = F.relu(x)\n",
    "        x = self.fc(x)\n",
    "        return x\n",
    "\n",
    "def train_gnn(train_data, num_features):\n",
    "    model = SimpleGNN(num_features=num_features)\n",
    "    optimizer = torch.optim.Adam(model.parameters(), lr=0.01)\n",
    "    for epoch in range(10):\n",
    "        model.train()\n",
    "        optimizer.zero_grad()\n",
    "        out = model(train_data)\n",
    "        loss = torch.nn.MSELoss()(out, train_data.y)\n",
    "        loss.backward()\n",
    "        optimizer.step()\n",
    "    return model\n",
    "\n",
    "def evaluate_gnn_trials(X_train, y_train, X_test, y_test):\n",
    "    train_data = transform_to_graph_data(X_train, y_train)\n",
    "    test_data = transform_to_graph_data(X_test, y_test)\n",
    "    gnn_rmses = []\n",
    "    for _ in range(N_TRIALS):\n",
    "        model = train_gnn(train_data, num_features=X_train.shape[1])\n",
    "        model.eval()\n",
    "        preds = model(test_data)\n",
    "        rmse = np.sqrt(mean_squared_error(y_test, preds.detach().numpy()))\n",
    "        gnn_rmses.append(rmse)\n",
    "    return gnn_rmses"
   ]
  },
  {
   "cell_type": "code",
   "execution_count": null,
   "metadata": {},
   "outputs": [
    {
     "name": "stdout",
     "output_type": "stream",
     "text": [
      "[gnn-oss]RMSEの平均値: 4.1393645076141805\n",
      "[gnn-oss]RMSEの中央値: 4.013760194499868\n",
      "[gnn-oss]RMSEの分散: 3.934743447058031\n",
      "[gnn-oss]RMSEの標準偏差: 1.9836187756365968\n",
      "[gnn-oss]RMSEの最小値: 1.12306073346855\n",
      "[gnn-oss]RMSEの最大値: 7.972186727006109\n",
      "[gnn-sleepiness]RMSEの平均値: 4.259584191602232\n",
      "[gnn-sleepiness]RMSEの中央値: 4.034555438381602\n",
      "[gnn-sleepiness]RMSEの分散: 2.77928866224355\n",
      "[gnn-sleepiness]RMSEの標準偏差: 1.6671198703883143\n",
      "[gnn-sleepiness]RMSEの最小値: 1.9850700341498457\n",
      "[gnn-sleepiness]RMSEの最大値: 9.063698413915455\n"
     ]
    }
   ],
   "source": [
    "train = get_data_from_directory(os.path.join(DATA_DIR, 'train'))\n",
    "test = get_data_from_directory(os.path.join(DATA_DIR, 'test'))\n",
    "\n",
    "X_train = train.drop(['oss', 'Sleepiness'], axis=1)\n",
    "X_test = test.drop(['oss', 'Sleepiness'], axis=1)\n",
    "\n",
    "# ossモデル\n",
    "oss_rmses = evaluate_gnn_trials(X_train, train['oss'], X_test, test['oss'])\n",
    "# print(f\"GNN ossモデルの平均RMSE: {np.mean(oss_rmses)}\")\n",
    "# print(f\"GNN ossモデルのRMSEの標準偏差: {np.std(oss_rmses)}\")\n",
    "printResults(oss_rmses,'gnn-oss')\n",
    "\n",
    "# Sleepinessモデル\n",
    "sleepiness_rmses = evaluate_gnn_trials(X_train, train['Sleepiness'], X_test, test['Sleepiness'])\n",
    "# def compute_statistics(arr):\n",
    "#     median = np.median(arr)\n",
    "#     mean = np.mean(arr)\n",
    "#     variance = np.var(arr)\n",
    "#     std_dev = np.std(arr)\n",
    "#     range_val = (np.min(arr), np.max(arr))\n",
    "    \n",
    "#     return {\n",
    "#         'Median': median,\n",
    "#         'Mean': mean,\n",
    "#         'Variance': variance,\n",
    "#         'Standard Deviation': std_dev,\n",
    "#         'Range': range_val\n",
    "#     }\n",
    "# print(compute_statistics(sleepiness_rmses))\n",
    "# print(f\"GNN sleepinessモデルの平均RMSE: {np.mean(sleepiness_rmses)}\")\n",
    "# print(f\"GNN sleepinessモデルのRMSEの標準偏差: {np.std(sleepiness_rmses)}\")\n",
    "printResults(sleepiness_rmses,'gnn-sleepiness')"
   ]
  },
  {
   "cell_type": "markdown",
   "metadata": {},
   "source": []
  },
  {
   "cell_type": "code",
   "execution_count": null,
   "metadata": {},
   "outputs": [],
   "source": []
  },
  {
   "cell_type": "code",
   "execution_count": null,
   "metadata": {},
   "outputs": [],
   "source": []
  },
  {
   "cell_type": "markdown",
   "metadata": {},
   "source": [
    "| 中央値 | 平均 | 分散 | 標準偏差 | 範囲 |\n",
    "| --- | --- | --- | --- | --- |\n",
    "| 4.5862 | 5.0127 | 4.3706 | 2.0906 | (2.0140, 10.5504) |\n",
    "\n"
   ]
  }
 ],
 "metadata": {
  "kernelspec": {
   "display_name": "Python 3 (ipykernel)",
   "language": "python",
   "name": "python3"
  },
  "language_info": {
   "codemirror_mode": {
    "name": "ipython",
    "version": 3
   },
   "file_extension": ".py",
   "mimetype": "text/x-python",
   "name": "python",
   "nbconvert_exporter": "python",
   "pygments_lexer": "ipython3",
   "version": "3.9.16"
  },
  "orig_nbformat": 4
 },
 "nbformat": 4,
 "nbformat_minor": 2
}
