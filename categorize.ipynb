{
 "cells": [
  {
   "cell_type": "code",
   "execution_count": 3,
   "id": "aba1b526-b51d-434e-9b9a-3a2db91eed19",
   "metadata": {
    "tags": []
   },
   "outputs": [],
   "source": [
    "import os\n",
    "data_dir = '../dms_data'\n",
    "train_data_path =  os.path.join(data_dir,'train')\n",
    "test_data_path = os.path.join(data_dir,'test')\n",
    "#train_data_path =  data_dir + '/train'\n",
    "#test_data_path = data_dir + '/test'\n",
    "train_file = os.path.join(train_data_path,'20201126_1546_0_y_train.csv') \n",
    "test_file = os.path.join(test_data_path, '20201126_1546_0_y_test.csv')"
   ]
  },
  {
   "cell_type": "code",
   "execution_count": 4,
   "id": "08c6fc74-ac8d-4758-a07f-41b5f9634e46",
   "metadata": {
    "tags": []
   },
   "outputs": [],
   "source": [
    "import pandas as pd\n",
    "import numpy as np\n",
    "import itertools\n",
    "import lightgbm as lgb\n",
    "from sklearn.metrics import mean_squared_error\n",
    "from sklearn.model_selection import train_test_split\n",
    "from sklearn.ensemble import RandomForestRegressor\n",
    "from sklearn.svm import SVR\n",
    "from tensorflow.keras.models import Sequential\n",
    "from tensorflow.keras.layers import Dense\n",
    "from tensorflow.keras.optimizers import Adam\n",
    "from sklearn.linear_model import LinearRegression\n",
    "from keras.utils import to_categorical"
   ]
  },
  {
   "cell_type": "code",
   "execution_count": 5,
   "id": "55c1d01a-885a-4435-ac46-ab4b1eee9bc3",
   "metadata": {
    "tags": []
   },
   "outputs": [
    {
     "data": {
      "text/plain": [
       "<bound method DataFrame.info of      m_speed  m_speed_var_480  m_speed_stddev_480  m_acceleration   \n",
       "34      69.2        62.888737            7.930242          0.0736  \\\n",
       "35      63.4        72.544368            8.517298         -0.1315   \n",
       "36     101.0        87.896412            9.375309          0.0644   \n",
       "37      86.6        86.736607            9.313249          0.0225   \n",
       "38      52.4        80.914104            8.995227          0.0184   \n",
       "..       ...              ...                 ...             ...   \n",
       "139     94.5       208.597076           14.442890          0.0695   \n",
       "140    110.0       234.226583           15.304463          0.0000   \n",
       "141     65.9       243.414779           15.601756          0.0272   \n",
       "142    110.0       254.212560           15.944045         -0.0180   \n",
       "143     83.4       260.322138           16.134501         -0.0243   \n",
       "\n",
       "     m_acceleration_var_480  m_acceleration_stddev_480  m_jerk   \n",
       "34                 0.003503                   0.059185  0.0015  \\\n",
       "35                 0.004115                   0.064149  0.0003   \n",
       "36                 0.004418                   0.066471 -0.0001   \n",
       "37                 0.004566                   0.067569  0.0000   \n",
       "38                 0.004323                   0.065747  0.0000   \n",
       "..                      ...                        ...     ...   \n",
       "139                0.004104                   0.064061 -0.0002   \n",
       "140                0.003987                   0.063140  0.0000   \n",
       "141                0.004291                   0.065505  0.0000   \n",
       "142                0.004415                   0.066444 -0.0081   \n",
       "143                0.004917                   0.070119 -0.0075   \n",
       "\n",
       "     m_jerk_var_480  m_jerk_stddev_480  m_steering  ...  BrakeInput   \n",
       "34         0.000020           0.004417    0.000987  ...         0.0  \\\n",
       "35         0.000020           0.004455   -0.000804  ...         0.0   \n",
       "36         0.000020           0.004455    0.000466  ...         0.0   \n",
       "37         0.000020           0.004480   -0.000063  ...         0.0   \n",
       "38         0.000017           0.004174   -0.000401  ...         0.0   \n",
       "..              ...                ...         ...  ...         ...   \n",
       "139        0.000020           0.004490    0.000982  ...         0.0   \n",
       "140        0.000020           0.004485   -0.000804  ...         0.0   \n",
       "141        0.000021           0.004529    0.000466  ...         0.0   \n",
       "142        0.000021           0.004541   -0.000036  ...         0.0   \n",
       "143        0.000022           0.004684   -0.000401  ...         0.0   \n",
       "\n",
       "     BrakeInput_var_480  BrakeInput_stddev_480   \n",
       "34             0.000177               0.013288  \\\n",
       "35             0.000177               0.013302   \n",
       "36             0.000177               0.013315   \n",
       "37             0.000178               0.013328   \n",
       "38             0.000178               0.013338   \n",
       "..                  ...                    ...   \n",
       "139            0.000000               0.000000   \n",
       "140            0.000000               0.000000   \n",
       "141            0.000000               0.000000   \n",
       "142            0.000000               0.000000   \n",
       "143            0.000000               0.000000   \n",
       "\n",
       "     realtime steering entropy_1100  realtime steering entropy_1100_var_480   \n",
       "34                         0.000427                                0.000000  \\\n",
       "35                         0.000895                                0.000000   \n",
       "36                         0.000504                                0.000000   \n",
       "37                         0.000000                                0.000000   \n",
       "38                         0.000295                                0.000000   \n",
       "..                              ...                                     ...   \n",
       "139                        0.000000                                0.000005   \n",
       "140                        0.000473                                0.000005   \n",
       "141                        0.000000                                0.000005   \n",
       "142                        0.000282                                0.000005   \n",
       "143                        0.000000                                0.000005   \n",
       "\n",
       "     realtime steering entropy_1100_stddev_480   perclos  mean_ec_out   \n",
       "34                                    0.000056  0.294543     1.873714  \\\n",
       "35                                    0.000207  0.228587     0.000009   \n",
       "36                                    0.000222  0.140712     0.081118   \n",
       "37                                    0.000224  0.134744     0.000583   \n",
       "38                                    0.000230  0.133779     0.106500   \n",
       "..                                         ...       ...          ...   \n",
       "139                                   0.002336  0.236242     0.082736   \n",
       "140                                   0.002331  0.141745     0.178014   \n",
       "141                                   0.002326  0.145880     0.611576   \n",
       "142                                   0.002325  0.151363     0.249030   \n",
       "143                                   0.002325  0.160356     0.354392   \n",
       "\n",
       "          oss  Sleepiness  \n",
       "34   2.384637    4.000000  \n",
       "35   2.010695    4.000000  \n",
       "36   2.135257    4.000000  \n",
       "37   2.658373    4.000000  \n",
       "38   2.471206    4.000000  \n",
       "..        ...         ...  \n",
       "139  2.333333    4.409436  \n",
       "140  2.333333    4.000000  \n",
       "141  2.333333    4.000000  \n",
       "142  2.333333    3.793984  \n",
       "143  2.264930    3.205885  \n",
       "\n",
       "[110 rows x 25 columns]>"
      ]
     },
     "execution_count": 5,
     "metadata": {},
     "output_type": "execute_result"
    }
   ],
   "source": [
    "# Define features\n",
    "features = ['m_speed', 'm_speed_var_480', 'm_speed_stddev_480', 'm_acceleration',\n",
    "            'm_acceleration_var_480', 'm_acceleration_stddev_480', 'm_jerk',\n",
    "            'm_jerk_var_480', 'm_jerk_stddev_480']\n",
    "\n",
    "train = pd.read_csv(train_file).drop(columns=['timestamp']).dropna();\n",
    "test = pd.read_csv(test_file).drop(columns=['timestamp']).dropna();\n",
    "train.info"
   ]
  }
 ],
 "metadata": {
  "kernelspec": {
   "display_name": "Python 3 (ipykernel)",
   "language": "python",
   "name": "python3"
  },
  "language_info": {
   "codemirror_mode": {
    "name": "ipython",
    "version": 3
   },
   "file_extension": ".py",
   "mimetype": "text/x-python",
   "name": "python",
   "nbconvert_exporter": "python",
   "pygments_lexer": "ipython3",
   "version": "3.11.3"
  }
 },
 "nbformat": 4,
 "nbformat_minor": 5
}
