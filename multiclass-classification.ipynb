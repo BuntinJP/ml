{
 "cells": [
  {
   "cell_type": "code",
   "execution_count": 26,
   "metadata": {},
   "outputs": [],
   "source": [
    "import os\n",
    "import pandas as pd\n",
    "import numpy as np\n",
    "import itertools\n",
    "import lightgbm as lgb\n",
    "from sklearn.metrics import mean_squared_error\n",
    "from sklearn.model_selection import train_test_split\n",
    "from sklearn.ensemble import RandomForestRegressor\n",
    "from sklearn.svm import SVR\n",
    "from tensorflow.keras.models import Sequential\n",
    "from tensorflow.keras.layers import Dense\n",
    "from tensorflow.keras.optimizers import Adam\n",
    "from sklearn.linear_model import LinearRegression"
   ]
  },
  {
   "cell_type": "code",
   "execution_count": 27,
   "metadata": {},
   "outputs": [],
   "source": [
    "DATA_DIR = './dms_data'\n",
    "def load_and_preprocess_data(file_path):\n",
    "    \"\"\"CSVを読み込んでちょっと前処理する関数。\"\"\"\n",
    "    df = pd.read_csv(file_path)\n",
    "    df = df.drop(['timestamp'], axis=1)\n",
    "    return df.dropna()\n",
    "\n",
    "def get_data_from_directory(directory_path):\n",
    "    \"\"\"指定ディレクトリのCSV全部を読み込んで結合する関数。\"\"\"\n",
    "    files = [f for f in os.listdir(directory_path) if f.endswith('.csv')]\n",
    "    data_frames = [load_and_preprocess_data(os.path.join(directory_path, file)) for file in files]\n",
    "    return pd.concat(data_frames, ignore_index=True)\n",
    "\n",
    "# トレインデータとテストデータを読み込む\n",
    "train = get_data_from_directory(os.path.join(DATA_DIR, 'train'))\n",
    "test = get_data_from_directory(os.path.join(DATA_DIR, 'test'))\n",
    "\n",
    "# 特徴量を定義\n",
    "features = [\n",
    "    'm_speed', 'm_speed_var_480', 'm_speed_stddev_480', 'm_acceleration',\n",
    "    'm_acceleration_var_480', 'm_acceleration_stddev_480', 'm_jerk',\n",
    "    'm_jerk_var_480', 'm_jerk_stddev_480'\n",
    "]"
   ]
  },
  {
   "cell_type": "code",
   "execution_count": 28,
   "metadata": {},
   "outputs": [
    {
     "data": {
      "text/html": [
       "<div>\n",
       "<style scoped>\n",
       "    .dataframe tbody tr th:only-of-type {\n",
       "        vertical-align: middle;\n",
       "    }\n",
       "\n",
       "    .dataframe tbody tr th {\n",
       "        vertical-align: top;\n",
       "    }\n",
       "\n",
       "    .dataframe thead th {\n",
       "        text-align: right;\n",
       "    }\n",
       "</style>\n",
       "<table border=\"1\" class=\"dataframe\">\n",
       "  <thead>\n",
       "    <tr style=\"text-align: right;\">\n",
       "      <th></th>\n",
       "      <th>m_speed</th>\n",
       "      <th>m_speed_var_480</th>\n",
       "      <th>m_speed_stddev_480</th>\n",
       "      <th>m_acceleration</th>\n",
       "      <th>m_acceleration_var_480</th>\n",
       "      <th>m_acceleration_stddev_480</th>\n",
       "      <th>m_jerk</th>\n",
       "      <th>m_jerk_var_480</th>\n",
       "      <th>m_jerk_stddev_480</th>\n",
       "      <th>m_steering</th>\n",
       "      <th>...</th>\n",
       "      <th>BrakeInput</th>\n",
       "      <th>BrakeInput_var_480</th>\n",
       "      <th>BrakeInput_stddev_480</th>\n",
       "      <th>realtime steering entropy_1100</th>\n",
       "      <th>realtime steering entropy_1100_var_480</th>\n",
       "      <th>realtime steering entropy_1100_stddev_480</th>\n",
       "      <th>perclos</th>\n",
       "      <th>mean_ec_out</th>\n",
       "      <th>oss</th>\n",
       "      <th>Sleepiness</th>\n",
       "    </tr>\n",
       "  </thead>\n",
       "  <tbody>\n",
       "    <tr>\n",
       "      <th>0</th>\n",
       "      <td>69.2</td>\n",
       "      <td>62.888737</td>\n",
       "      <td>7.930242</td>\n",
       "      <td>0.0736</td>\n",
       "      <td>0.003503</td>\n",
       "      <td>0.059185</td>\n",
       "      <td>0.0015</td>\n",
       "      <td>0.000020</td>\n",
       "      <td>0.004417</td>\n",
       "      <td>0.000987</td>\n",
       "      <td>...</td>\n",
       "      <td>0.0</td>\n",
       "      <td>0.000177</td>\n",
       "      <td>0.013288</td>\n",
       "      <td>0.000427</td>\n",
       "      <td>0.0</td>\n",
       "      <td>0.000056</td>\n",
       "      <td>0.294543</td>\n",
       "      <td>1.873714</td>\n",
       "      <td>2.384637</td>\n",
       "      <td>4.0</td>\n",
       "    </tr>\n",
       "    <tr>\n",
       "      <th>1</th>\n",
       "      <td>63.4</td>\n",
       "      <td>72.544368</td>\n",
       "      <td>8.517298</td>\n",
       "      <td>-0.1315</td>\n",
       "      <td>0.004115</td>\n",
       "      <td>0.064149</td>\n",
       "      <td>0.0003</td>\n",
       "      <td>0.000020</td>\n",
       "      <td>0.004455</td>\n",
       "      <td>-0.000804</td>\n",
       "      <td>...</td>\n",
       "      <td>0.0</td>\n",
       "      <td>0.000177</td>\n",
       "      <td>0.013302</td>\n",
       "      <td>0.000895</td>\n",
       "      <td>0.0</td>\n",
       "      <td>0.000207</td>\n",
       "      <td>0.228587</td>\n",
       "      <td>0.000009</td>\n",
       "      <td>2.010695</td>\n",
       "      <td>4.0</td>\n",
       "    </tr>\n",
       "    <tr>\n",
       "      <th>2</th>\n",
       "      <td>101.0</td>\n",
       "      <td>87.896412</td>\n",
       "      <td>9.375309</td>\n",
       "      <td>0.0644</td>\n",
       "      <td>0.004418</td>\n",
       "      <td>0.066471</td>\n",
       "      <td>-0.0001</td>\n",
       "      <td>0.000020</td>\n",
       "      <td>0.004455</td>\n",
       "      <td>0.000466</td>\n",
       "      <td>...</td>\n",
       "      <td>0.0</td>\n",
       "      <td>0.000177</td>\n",
       "      <td>0.013315</td>\n",
       "      <td>0.000504</td>\n",
       "      <td>0.0</td>\n",
       "      <td>0.000222</td>\n",
       "      <td>0.140712</td>\n",
       "      <td>0.081118</td>\n",
       "      <td>2.135257</td>\n",
       "      <td>4.0</td>\n",
       "    </tr>\n",
       "    <tr>\n",
       "      <th>3</th>\n",
       "      <td>86.6</td>\n",
       "      <td>86.736607</td>\n",
       "      <td>9.313249</td>\n",
       "      <td>0.0225</td>\n",
       "      <td>0.004566</td>\n",
       "      <td>0.067569</td>\n",
       "      <td>0.0000</td>\n",
       "      <td>0.000020</td>\n",
       "      <td>0.004480</td>\n",
       "      <td>-0.000063</td>\n",
       "      <td>...</td>\n",
       "      <td>0.0</td>\n",
       "      <td>0.000178</td>\n",
       "      <td>0.013328</td>\n",
       "      <td>0.000000</td>\n",
       "      <td>0.0</td>\n",
       "      <td>0.000224</td>\n",
       "      <td>0.134744</td>\n",
       "      <td>0.000583</td>\n",
       "      <td>2.658373</td>\n",
       "      <td>4.0</td>\n",
       "    </tr>\n",
       "    <tr>\n",
       "      <th>4</th>\n",
       "      <td>52.4</td>\n",
       "      <td>80.914104</td>\n",
       "      <td>8.995227</td>\n",
       "      <td>0.0184</td>\n",
       "      <td>0.004323</td>\n",
       "      <td>0.065747</td>\n",
       "      <td>0.0000</td>\n",
       "      <td>0.000017</td>\n",
       "      <td>0.004174</td>\n",
       "      <td>-0.000401</td>\n",
       "      <td>...</td>\n",
       "      <td>0.0</td>\n",
       "      <td>0.000178</td>\n",
       "      <td>0.013338</td>\n",
       "      <td>0.000295</td>\n",
       "      <td>0.0</td>\n",
       "      <td>0.000230</td>\n",
       "      <td>0.133779</td>\n",
       "      <td>0.106500</td>\n",
       "      <td>2.471206</td>\n",
       "      <td>4.0</td>\n",
       "    </tr>\n",
       "  </tbody>\n",
       "</table>\n",
       "<p>5 rows × 25 columns</p>\n",
       "</div>"
      ],
      "text/plain": [
       "   m_speed  m_speed_var_480  m_speed_stddev_480  m_acceleration   \n",
       "0     69.2        62.888737            7.930242          0.0736  \\\n",
       "1     63.4        72.544368            8.517298         -0.1315   \n",
       "2    101.0        87.896412            9.375309          0.0644   \n",
       "3     86.6        86.736607            9.313249          0.0225   \n",
       "4     52.4        80.914104            8.995227          0.0184   \n",
       "\n",
       "   m_acceleration_var_480  m_acceleration_stddev_480  m_jerk  m_jerk_var_480   \n",
       "0                0.003503                   0.059185  0.0015        0.000020  \\\n",
       "1                0.004115                   0.064149  0.0003        0.000020   \n",
       "2                0.004418                   0.066471 -0.0001        0.000020   \n",
       "3                0.004566                   0.067569  0.0000        0.000020   \n",
       "4                0.004323                   0.065747  0.0000        0.000017   \n",
       "\n",
       "   m_jerk_stddev_480  m_steering  ...  BrakeInput  BrakeInput_var_480   \n",
       "0           0.004417    0.000987  ...         0.0            0.000177  \\\n",
       "1           0.004455   -0.000804  ...         0.0            0.000177   \n",
       "2           0.004455    0.000466  ...         0.0            0.000177   \n",
       "3           0.004480   -0.000063  ...         0.0            0.000178   \n",
       "4           0.004174   -0.000401  ...         0.0            0.000178   \n",
       "\n",
       "   BrakeInput_stddev_480  realtime steering entropy_1100   \n",
       "0               0.013288                        0.000427  \\\n",
       "1               0.013302                        0.000895   \n",
       "2               0.013315                        0.000504   \n",
       "3               0.013328                        0.000000   \n",
       "4               0.013338                        0.000295   \n",
       "\n",
       "   realtime steering entropy_1100_var_480   \n",
       "0                                     0.0  \\\n",
       "1                                     0.0   \n",
       "2                                     0.0   \n",
       "3                                     0.0   \n",
       "4                                     0.0   \n",
       "\n",
       "   realtime steering entropy_1100_stddev_480   perclos  mean_ec_out       oss   \n",
       "0                                   0.000056  0.294543     1.873714  2.384637  \\\n",
       "1                                   0.000207  0.228587     0.000009  2.010695   \n",
       "2                                   0.000222  0.140712     0.081118  2.135257   \n",
       "3                                   0.000224  0.134744     0.000583  2.658373   \n",
       "4                                   0.000230  0.133779     0.106500  2.471206   \n",
       "\n",
       "   Sleepiness  \n",
       "0         4.0  \n",
       "1         4.0  \n",
       "2         4.0  \n",
       "3         4.0  \n",
       "4         4.0  \n",
       "\n",
       "[5 rows x 25 columns]"
      ]
     },
     "execution_count": 28,
     "metadata": {},
     "output_type": "execute_result"
    }
   ],
   "source": [
    "train.head()"
   ]
  },
  {
   "cell_type": "code",
   "execution_count": 29,
   "metadata": {},
   "outputs": [
    {
     "data": {
      "text/plain": [
       "m_speed                                      float64\n",
       "m_speed_var_480                              float64\n",
       "m_speed_stddev_480                           float64\n",
       "m_acceleration                               float64\n",
       "m_acceleration_var_480                       float64\n",
       "m_acceleration_stddev_480                    float64\n",
       "m_jerk                                       float64\n",
       "m_jerk_var_480                               float64\n",
       "m_jerk_stddev_480                            float64\n",
       "m_steering                                   float64\n",
       "m_steering_var_480                           float64\n",
       "m_steering_stddev_480                        float64\n",
       "AccelInput                                   float64\n",
       "AccelInput_var_480                           float64\n",
       "AccelInput_stddev_480                        float64\n",
       "BrakeInput                                   float64\n",
       "BrakeInput_var_480                           float64\n",
       "BrakeInput_stddev_480                        float64\n",
       "realtime steering entropy_1100               float64\n",
       "realtime steering entropy_1100_var_480       float64\n",
       "realtime steering entropy_1100_stddev_480    float64\n",
       "perclos                                      float64\n",
       "mean_ec_out                                  float64\n",
       "oss                                          float64\n",
       "Sleepiness                                   float64\n",
       "dtype: object"
      ]
     },
     "execution_count": 29,
     "metadata": {},
     "output_type": "execute_result"
    }
   ],
   "source": [
    "train.dtypes"
   ]
  },
  {
   "cell_type": "code",
   "execution_count": 30,
   "metadata": {},
   "outputs": [
    {
     "name": "stdout",
     "output_type": "stream",
     "text": [
      "m_speed                                      float64\n",
      "m_speed_var_480                              float64\n",
      "m_speed_stddev_480                           float64\n",
      "m_acceleration                               float64\n",
      "m_acceleration_var_480                       float64\n",
      "m_acceleration_stddev_480                    float64\n",
      "m_jerk                                       float64\n",
      "m_jerk_var_480                               float64\n",
      "m_jerk_stddev_480                            float64\n",
      "m_steering                                   float64\n",
      "m_steering_var_480                           float64\n",
      "m_steering_stddev_480                        float64\n",
      "AccelInput                                   float64\n",
      "AccelInput_var_480                           float64\n",
      "AccelInput_stddev_480                        float64\n",
      "BrakeInput                                   float64\n",
      "BrakeInput_var_480                           float64\n",
      "BrakeInput_stddev_480                        float64\n",
      "realtime steering entropy_1100               float64\n",
      "realtime steering entropy_1100_var_480       float64\n",
      "realtime steering entropy_1100_stddev_480    float64\n",
      "perclos                                      float64\n",
      "mean_ec_out                                  float64\n",
      "oss                                          float64\n",
      "Sleepiness                                   float64\n",
      "int_oss                                        int64\n",
      "dtype: object\n"
     ]
    }
   ],
   "source": [
    "# ossを丸めてint型として新しいカラムoss_intを追加\n",
    "train['int_oss'] = train['oss'].round().astype(int)\n",
    "\n",
    "# int_ossカラムを追加した新しいデータフレームのdtypeを表示\n",
    "print(train.dtypes)"
   ]
  },
  {
   "cell_type": "code",
   "execution_count": 31,
   "metadata": {},
   "outputs": [
    {
     "data": {
      "text/plain": [
       "int_oss\n",
       "3    979\n",
       "2    391\n",
       "4    274\n",
       "5     94\n",
       "Name: count, dtype: int64"
      ]
     },
     "execution_count": 31,
     "metadata": {},
     "output_type": "execute_result"
    }
   ],
   "source": [
    "train['int_oss'].value_counts()"
   ]
  },
  {
   "cell_type": "code",
   "execution_count": 32,
   "metadata": {},
   "outputs": [
    {
     "data": {
      "image/png": "[encoded data removed]",
      "text/plain": [
       "<Figure size 1000x500 with 1 Axes>"
      ]
     },
     "metadata": {},
     "output_type": "display_data"
    },
    {
     "data": {
      "image/png": "[encoded data removed]",
      "text/plain": [
       "<Figure size 1000x500 with 1 Axes>"
      ]
     },
     "metadata": {},
     "output_type": "display_data"
    }
   ],
   "source": [
    "import matplotlib.pyplot as plt\n",
    "\n",
    "# ossのヒストグラム\n",
    "plt.figure(figsize=(10,5))\n",
    "plt.hist(train['oss'], bins=50, alpha=0.7, label='oss')\n",
    "plt.title('Histogram of oss')\n",
    "plt.xlabel('Value')\n",
    "plt.ylabel('Frequency')\n",
    "plt.legend()\n",
    "plt.show()\n",
    "\n",
    "# int_ossのヒストグラム\n",
    "plt.figure(figsize=(10,5))\n",
    "plt.hist(train['int_oss'], bins=50, color='orange', alpha=0.7, label='int_oss')\n",
    "plt.title('Histogram of int_oss')\n",
    "plt.xlabel('Value')\n",
    "plt.ylabel('Frequency')\n",
    "plt.legend()\n",
    "plt.show()\n"
   ]
  },
  {
   "cell_type": "code",
   "execution_count": 36,
   "metadata": {},
   "outputs": [
    {
     "data": {
      "image/png": "[encoded data removed]",
      "text/plain": [
       "<Figure size 1000x500 with 1 Axes>"
      ]
     },
     "metadata": {},
     "output_type": "display_data"
    },
    {
     "data": {
      "image/png": "[encoded data removed]",
      "text/plain": [
       "<Figure size 1000x500 with 1 Axes>"
      ]
     },
     "metadata": {},
     "output_type": "display_data"
    }
   ],
   "source": [
    "# Sleepinessを整数に変換\n",
    "train['int_Sleepiness'] = train['Sleepiness'].round().astype(int)\n",
    "\n",
    "import matplotlib.pyplot as plt\n",
    "\n",
    "# Sleepinessのヒストグラム\n",
    "plt.figure(figsize=(10,5))\n",
    "plt.hist(train['Sleepiness'], bins=50, alpha=0.7, label='Sleepiness')\n",
    "plt.title('Histogram of Sleepiness')\n",
    "plt.xlabel('Value')\n",
    "plt.ylabel('Frequency')\n",
    "plt.legend()\n",
    "plt.show()\n",
    "\n",
    "# int_Sleepinessのヒストグラム\n",
    "plt.figure(figsize=(10,5))\n",
    "plt.hist(train['int_Sleepiness'], bins=50, color='orange', alpha=0.7, label='int_Sleepiness')\n",
    "plt.title('Histogram of int_Sleepiness')\n",
    "plt.xlabel('Value')\n",
    "plt.ylabel('Frequency')\n",
    "plt.legend()\n",
    "plt.show()\n"
   ]
  },
  {
   "cell_type": "markdown",
   "metadata": {},
   "source": [
    "### LightGBM"
   ]
  },
  {
   "cell_type": "code",
   "execution_count": null,
   "metadata": {},
   "outputs": [],
   "source": []
  },
  {
   "cell_type": "code",
   "execution_count": null,
   "metadata": {},
   "outputs": [],
   "source": []
  },
  {
   "cell_type": "markdown",
   "metadata": {},
   "source": [
    "### GraphNeuralNetwork"
   ]
  },
  {
   "cell_type": "code",
   "execution_count": 33,
   "metadata": {},
   "outputs": [],
   "source": [
    "import torch\n",
    "import torch.nn.functional as F\n",
    "from torch_geometric.nn import GCNConv\n",
    "from torch_geometric.data import Data"
   ]
  },
  {
   "cell_type": "code",
   "execution_count": 34,
   "metadata": {},
   "outputs": [],
   "source": [
    "def read_and_process(directory):\n",
    "    files = os.listdir(directory)\n",
    "    df_list = []\n",
    "    for file in files:\n",
    "        if file.endswith('.csv'):\n",
    "            df = pd.read_csv(os.path.join(directory, file))\n",
    "            df = df.drop(['timestamp'], axis=1)\n",
    "            df = df.dropna()\n",
    "            df_list.append(df)\n",
    "    df_combined = pd.concat(df_list, ignore_index=True)\n",
    "    return df_combined"
   ]
  },
  {
   "cell_type": "code",
   "execution_count": 35,
   "metadata": {},
   "outputs": [],
   "source": [
    "data_dir = 'dms_data'\n",
    "\n",
    "train_data_path = data_dir + '/train'\n",
    "test_data_path = data_dir + '/test'\n",
    "\n",
    "\n",
    "train = read_and_process(train_data_path)\n",
    "test = read_and_process(test_data_path)\n",
    "features = ['m_speed', 'm_speed_var_480', 'm_speed_stddev_480', 'm_acceleration',\n",
    "    'm_acceleration_var_480', 'm_acceleration_stddev_480', 'm_jerk',\n",
    "    'm_jerk_var_480', 'm_jerk_stddev_480']"
   ]
  }
 ],
 "metadata": {
  "kernelspec": {
   "display_name": "Python 3 (ipykernel)",
   "language": "python",
   "name": "python3"
  },
  "language_info": {
   "codemirror_mode": {
    "name": "ipython",
    "version": 3
   },
   "file_extension": ".py",
   "mimetype": "text/x-python",
   "name": "python",
   "nbconvert_exporter": "python",
   "pygments_lexer": "ipython3",
   "version": "3.9.16"
  },
  "orig_nbformat": 4
 },
 "nbformat": 4,
 "nbformat_minor": 2
}
