{
 "cells": [
  {
   "cell_type": "markdown",
   "metadata": {},
   "source": [
    "## regression_normalization\n",
    "\n",
    "-   回帰\n",
    "-   正規化あり\n",
    "-   シャッフルでの効果検証\n",
    "-   sklearn の StandardScaler による正規化\n"
   ]
  },
  {
   "cell_type": "markdown",
   "metadata": {},
   "source": [
    "### 準備\n"
   ]
  },
  {
   "cell_type": "code",
   "execution_count": 1,
   "metadata": {},
   "outputs": [],
   "source": [
    "import os\n",
    "import pandas as pd\n",
    "import numpy as np\n",
    "import lightgbm as lgb\n",
    "from sklearn.metrics import mean_squared_error\n",
    "\n",
    "from sklearn.preprocessing import StandardScaler"
   ]
  },
  {
   "cell_type": "code",
   "execution_count": 2,
   "metadata": {},
   "outputs": [],
   "source": [
    "DATA_DIR = './dms_data'\n",
    "N_TRIALS = 5"
   ]
  },
  {
   "cell_type": "code",
   "execution_count": 3,
   "metadata": {},
   "outputs": [],
   "source": [
    "\n",
    "def load_and_preprocess_data(file_path):\n",
    "  \"\"\"CSVを読み込んで前処理する関数。\"\"\"\n",
    "  df = pd.read_csv(file_path)\n",
    "  df = df.drop(['timestamp'], axis=1)\n",
    "  return df.dropna()\n",
    "\n",
    "\n",
    "def get_data_from_directory(directory_path):\n",
    "  \"\"\"指定ディレクトリのCSV全部を読み込んで結合する関数。\"\"\"\n",
    "  files = [f for f in os.listdir(directory_path) if f.endswith('.csv')]\n",
    "  data_frames = [load_and_preprocess_data(os.path.join(directory_path, file)) for file in files]\n",
    "  return pd.concat(data_frames, ignore_index=True)\n",
    "\n",
    "\n",
    "# 特徴量を定義\n",
    "features = [\n",
    "    'm_speed', 'm_speed_var_480', 'm_speed_stddev_480', 'm_acceleration',\n",
    "    'm_acceleration_var_480', 'm_acceleration_stddev_480', 'm_jerk',\n",
    "    'm_jerk_var_480', 'm_jerk_stddev_480', 'oss', 'Sleepiness'\n",
    "]\n",
    "\n",
    "\n",
    "def evaluate_model(model, X, y):\n",
    "  \"\"\"モデルの評価。RMSE\"\"\"\n",
    "  predictions = model.predict(X)\n",
    "  return np.sqrt(mean_squared_error(y, predictions))\n",
    "\n",
    "\n",
    "def printResults(rmse_results, title, if_print=True):\n",
    "  mean_rmse = np.mean(rmse_results)\n",
    "  median_rmse = np.median(rmse_results)\n",
    "  variance_rmse = np.var(rmse_results)\n",
    "  std_rmse = np.std(rmse_results)\n",
    "  min_rmse = np.min(rmse_results)\n",
    "  max_rmse = np.max(rmse_results)\n",
    "\n",
    "  out = ''\n",
    "  out += f\"[{title}]RMSEの平均値: {mean_rmse}\\n\"\n",
    "  # out += f\"[{title}]RMSEの中央値: {median_rmse}\\n\"\n",
    "  # out += f\"[{title}]RMSEの分散: {variance_rmse}\\n\"\n",
    "  # out += f\"[{title}]RMSEの標準偏差: {std_rmse}\\n\"\n",
    "  out += f\"[{title}]RMSEの最小値: {min_rmse}\\n\"\n",
    "  out += f\"[{title}]RMSEの最大値: {max_rmse}\\n\"\n",
    "\n",
    "  if if_print:\n",
    "    print(out)\n",
    "  return out\n",
    "\n",
    "  # print(f\"[{title}]RMSEの平均値: {mean_rmse}\")\n",
    "  # # print(f\"[{title}]RMSEの中央値: {median_rmse}\")\n",
    "  # # print(f\"[{title}]RMSEの分散: {variance_rmse}\")\n",
    "  # # print(f\"[{title}]RMSEの標準偏差: {std_rmse}\")\n",
    "  # print(f\"[{title}]RMSEの最小値: {min_rmse}\")\n",
    "  # print(f\"[{title}]RMSEの最大値: {max_rmse}\")\n",
    "\n",
    "\n",
    "def get_data_from_directory_with_scaling(directory_path, scaler=None):\n",
    "  \"\"\"指定ディレクトリのCSV全部を読み込んで結合し、スケーリングする関数。\"\"\"\n",
    "  files = [f for f in os.listdir(directory_path) if f.endswith('.csv')]\n",
    "  data_frames = [load_and_preprocess_data(os.path.join(directory_path, file)) for file in files]\n",
    "  combined_df = pd.concat(data_frames, ignore_index=True)\n",
    "\n",
    "  if scaler is not None:\n",
    "    # 既存のスケーラーを使用してデータを変換\n",
    "    combined_df[features] = scaler.transform(combined_df[features])\n",
    "  else:\n",
    "    # 新しいスケーラーをフィットしてデータを変換\n",
    "    scaler = StandardScaler()\n",
    "    combined_df[features] = scaler.fit_transform(combined_df[features])\n",
    "\n",
    "  return combined_df, scaler"
   ]
  },
  {
   "cell_type": "code",
   "execution_count": 4,
   "metadata": {},
   "outputs": [],
   "source": [
    "# トレインデータとテストデータを読み込む\n",
    "# train = get_data_from_directory(os.path.join(DATA_DIR, 'train'))\n",
    "# test = get_data_from_directory(os.path.join(DATA_DIR, 'test'))\n",
    "train, scaler = get_data_from_directory_with_scaling(os.path.join(DATA_DIR, 'train'))\n",
    "test, _ = get_data_from_directory_with_scaling(os.path.join(DATA_DIR, 'test'), scaler=scaler)\n",
    "\n",
    "# oss_variance = train_data['oss'].var()\n",
    "# sleepiness_variance = train_data['Sleepiness'].var()\n",
    "\n",
    "# print(f\"ossの分散: {oss_variance}\")\n",
    "# print(f\"Sleepinessの分散: {sleepiness_variance}\")\n",
    "# print(train_data.head())\n",
    "# print(train_data.describe())"
   ]
  },
  {
   "cell_type": "markdown",
   "metadata": {},
   "source": [
    "### LightGBM\n"
   ]
  },
  {
   "cell_type": "markdown",
   "metadata": {},
   "source": [
    "#### 正規化導入前\n"
   ]
  },
  {
   "cell_type": "code",
   "execution_count": 5,
   "metadata": {},
   "outputs": [],
   "source": [
    "def train_lightgbm_full(X, y):\n",
    "  \"\"\"Train LightGBM model on the full training data.\"\"\"\n",
    "  train_data = lgb.Dataset(X, label=y)\n",
    "  params = {\n",
    "      'objective': 'regression',\n",
    "      'metric': 'rmse',\n",
    "      'verbose': -1\n",
    "  }\n",
    "  model = lgb.train(params, train_data)\n",
    "  return model\n",
    "\n",
    "\n",
    "def evaluate_on_test(model, X_test, y_test):\n",
    "  \"\"\"Evaluate model on the test data.\"\"\"\n",
    "  predictions = model.predict(X_test)\n",
    "  return np.sqrt(mean_squared_error(y_test, predictions))\n",
    "\n",
    "\n",
    "def evaluate_trials_with_test(X, y, X_test, y_test):\n",
    "  rmses_train = []\n",
    "  rmses_test = []\n",
    "  for _ in range(N_TRIALS):\n",
    "    model = train_lightgbm_full(X, y)\n",
    "    rmse_train = evaluate_model(model, X, y)\n",
    "    rmse_test = evaluate_on_test(model, X_test, y_test)\n",
    "    rmses_train.append(rmse_train)\n",
    "    rmses_test.append(rmse_test)\n",
    "  return rmses_train, rmses_test"
   ]
  },
  {
   "cell_type": "code",
   "execution_count": 6,
   "metadata": {},
   "outputs": [],
   "source": [
    "train_data = get_data_from_directory(os.path.join(DATA_DIR, 'train'))\n",
    "X = train_data.drop(['oss', 'Sleepiness'], axis=1)\n",
    "\n",
    "test_data = get_data_from_directory(os.path.join(DATA_DIR, 'test'))\n",
    "X_test = test_data.drop(['oss', 'Sleepiness'], axis=1)"
   ]
  },
  {
   "cell_type": "code",
   "execution_count": 7,
   "metadata": {},
   "outputs": [
    {
     "name": "stdout",
     "output_type": "stream",
     "text": [
      "[lgbm-oss-train]RMSEの平均値: 0.12133256979736869\n",
      "[lgbm-oss-train]RMSEの最小値: 0.12133256979736869\n",
      "[lgbm-oss-train]RMSEの最大値: 0.12133256979736869\n",
      "\n",
      "[lgbm-oss-test]RMSEの平均値: 0.5634352602546109\n",
      "[lgbm-oss-test]RMSEの最小値: 0.5634352602546109\n",
      "[lgbm-oss-test]RMSEの最大値: 0.5634352602546109\n",
      "\n"
     ]
    },
    {
     "data": {
      "text/plain": [
       "'[lgbm-oss-test]RMSEの平均値: 0.5634352602546109\\n[lgbm-oss-test]RMSEの最小値: 0.5634352602546109\\n[lgbm-oss-test]RMSEの最大値: 0.5634352602546109\\n'"
      ]
     },
     "execution_count": 7,
     "metadata": {},
     "output_type": "execute_result"
    }
   ],
   "source": [
    "oss_rmses_train, oss_rmses_test = evaluate_trials_with_test(X, train_data['oss'], X_test, test_data['oss'])\n",
    "printResults(oss_rmses_train, 'lgbm-oss-train')\n",
    "printResults(oss_rmses_test, 'lgbm-oss-test')"
   ]
  },
  {
   "cell_type": "code",
   "execution_count": 8,
   "metadata": {},
   "outputs": [
    {
     "name": "stdout",
     "output_type": "stream",
     "text": [
      "[lgbm-sleepiness-train]RMSEの平均値: 0.21806987053339172\n",
      "[lgbm-sleepiness-train]RMSEの最小値: 0.21806987053339172\n",
      "[lgbm-sleepiness-train]RMSEの最大値: 0.21806987053339172\n",
      "\n",
      "[lgbm-sleepiness-test]RMSEの平均値: 1.4501764251981017\n",
      "[lgbm-sleepiness-test]RMSEの最小値: 1.4501764251981017\n",
      "[lgbm-sleepiness-test]RMSEの最大値: 1.4501764251981017\n",
      "\n"
     ]
    },
    {
     "data": {
      "text/plain": [
       "'[lgbm-sleepiness-test]RMSEの平均値: 1.4501764251981017\\n[lgbm-sleepiness-test]RMSEの最小値: 1.4501764251981017\\n[lgbm-sleepiness-test]RMSEの最大値: 1.4501764251981017\\n'"
      ]
     },
     "execution_count": 8,
     "metadata": {},
     "output_type": "execute_result"
    }
   ],
   "source": [
    "sleepiness_rmses_train, sleepiness_rmses_test = evaluate_trials_with_test(X, train_data['Sleepiness'], X_test, test_data['Sleepiness'])\n",
    "printResults(sleepiness_rmses_train, 'lgbm-sleepiness-train')\n",
    "printResults(sleepiness_rmses_test, 'lgbm-sleepiness-test')"
   ]
  },
  {
   "cell_type": "code",
   "execution_count": 9,
   "metadata": {},
   "outputs": [
    {
     "name": "stdout",
     "output_type": "stream",
     "text": [
      "[lgbm-oss-kfold]RMSEの平均値: 0.4242293079010827\n",
      "[lgbm-oss-kfold]RMSEの最小値: 0.3997471486842964\n",
      "[lgbm-oss-kfold]RMSEの最大値: 0.4558611393616859\n",
      "\n",
      "[lgbm-sleepiness-kfold]RMSEの平均値: 0.3162353774008916\n",
      "[lgbm-sleepiness-kfold]RMSEの最小値: 0.3035231749457593\n",
      "[lgbm-sleepiness-kfold]RMSEの最大値: 0.336566900053838\n",
      "\n"
     ]
    },
    {
     "data": {
      "text/plain": [
       "'[lgbm-sleepiness-kfold]RMSEの平均値: 0.3162353774008916\\n[lgbm-sleepiness-kfold]RMSEの最小値: 0.3035231749457593\\n[lgbm-sleepiness-kfold]RMSEの最大値: 0.336566900053838\\n'"
      ]
     },
     "execution_count": 9,
     "metadata": {},
     "output_type": "execute_result"
    }
   ],
   "source": [
    "from sklearn.model_selection import KFold\n",
    "\n",
    "\n",
    "def evaluate_with_kfold(X, y, n_splits=5):\n",
    "  \"\"\"5分割交差検証を使用してモデルを評価する関数\"\"\"\n",
    "  kf = KFold(n_splits=n_splits, shuffle=True, random_state=42)\n",
    "  rmses = []\n",
    "\n",
    "  for train_index, test_index in kf.split(X):\n",
    "    X_train, X_test = X.iloc[train_index], X.iloc[test_index]\n",
    "    y_train, y_test = y.iloc[train_index], y.iloc[test_index]\n",
    "\n",
    "    model = train_lightgbm_full(X_train, y_train)\n",
    "    rmse = evaluate_on_test(model, X_test, y_test)\n",
    "    rmses.append(rmse)\n",
    "\n",
    "  return rmses\n",
    "\n",
    "\n",
    "all_data = pd.concat([train, test], ignore_index=True)\n",
    "\n",
    "X_all = all_data.drop([\"oss\", \"Sleepiness\"], axis=1)\n",
    "y_all_oss = all_data[\"oss\"]\n",
    "y_all_sleepiness = all_data[\"Sleepiness\"]\n",
    "\n",
    "oss_kfold_rmses = evaluate_with_kfold(X_all, y_all_oss)\n",
    "printResults(oss_kfold_rmses, \"lgbm-oss-kfold\")\n",
    "\n",
    "sleepiness_kfold_rmses = evaluate_with_kfold(X_all, y_all_sleepiness)\n",
    "printResults(sleepiness_kfold_rmses, \"lgbm-sleepiness-kfold\")"
   ]
  },
  {
   "cell_type": "markdown",
   "metadata": {},
   "source": [
    "#### 正規化導入\n"
   ]
  },
  {
   "cell_type": "code",
   "execution_count": 10,
   "metadata": {},
   "outputs": [],
   "source": [
    "from sklearn.preprocessing import MinMaxScaler"
   ]
  },
  {
   "cell_type": "code",
   "execution_count": 11,
   "metadata": {},
   "outputs": [
    {
     "name": "stdout",
     "output_type": "stream",
     "text": [
      "[lgbm-oss-test-normalized]RMSEの平均値: 0.16889086825505312\n",
      "[lgbm-oss-test-normalized]RMSEの最小値: 0.16889086825505312\n",
      "[lgbm-oss-test-normalized]RMSEの最大値: 0.16889086825505312\n",
      "\n",
      "[lgbm-sleepiness-test-normalized]RMSEの平均値: 0.18127205293997622\n",
      "[lgbm-sleepiness-test-normalized]RMSEの最小値: 0.18127205293997622\n",
      "[lgbm-sleepiness-test-normalized]RMSEの最大値: 0.18127205293997622\n",
      "\n"
     ]
    },
    {
     "data": {
      "text/plain": [
       "'[lgbm-sleepiness-test-normalized]RMSEの平均値: 0.18127205293997622\\n[lgbm-sleepiness-test-normalized]RMSEの最小値: 0.18127205293997622\\n[lgbm-sleepiness-test-normalized]RMSEの最大値: 0.18127205293997622\\n'"
      ]
     },
     "execution_count": 11,
     "metadata": {},
     "output_type": "execute_result"
    }
   ],
   "source": [
    "\n",
    "train_data = get_data_from_directory(os.path.join(DATA_DIR, 'train'))\n",
    "test_data = get_data_from_directory(os.path.join(DATA_DIR, 'test'))\n",
    "\n",
    "\n",
    "def normalize_data(series):\n",
    "  scaler = MinMaxScaler()\n",
    "  series = series.values.reshape(-1, 1)\n",
    "  series = scaler.fit_transform(series)\n",
    "  series = series.ravel()\n",
    "  return pd.Series(series)\n",
    "\n",
    "\n",
    "def evaluate_trials_with_test_and_normalization(X, y, X_test, y_test):\n",
    "  y = normalize_data(y)  # 正規化\n",
    "  y_test = normalize_data(y_test)  # テストデータも正規化\n",
    "  rmses_train = []\n",
    "  rmses_test = []\n",
    "  for _ in range(N_TRIALS):\n",
    "    model = train_lightgbm_full(X, y)\n",
    "    rmse_train = evaluate_model(model, X, y)\n",
    "    rmse_test = evaluate_on_test(model, X_test, y_test)\n",
    "    rmses_train.append(rmse_train)\n",
    "    rmses_test.append(rmse_test)\n",
    "  return rmses_train, rmses_test\n",
    "\n",
    "\n",
    "X = train_data.drop(['oss', 'Sleepiness'], axis=1)\n",
    "X_test = test_data.drop(['oss', 'Sleepiness'], axis=1)\n",
    "\n",
    "oss_rmses_train_norm, oss_rmses_test_norm = evaluate_trials_with_test_and_normalization(X, train_data['oss'], X_test, test_data['oss'])\n",
    "# printResults(oss_rmses_train_norm, 'lgbm-oss-train-normalized')\n",
    "printResults(oss_rmses_test_norm, 'lgbm-oss-test-normalized')\n",
    "\n",
    "sleepiness_rmses_train_norm, sleepiness_rmses_test_norm = evaluate_trials_with_test_and_normalization(X, train_data['Sleepiness'], X_test, test_data['Sleepiness'])\n",
    "# printResults(sleepiness_rmses_train_norm, 'lgbm-sleepiness-train-normalized')\n",
    "printResults(sleepiness_rmses_test_norm, 'lgbm-sleepiness-test-normalized')"
   ]
  },
  {
   "cell_type": "markdown",
   "metadata": {},
   "source": [
    "#### 正規化 & 5 分割交差検証 & データシャッフル\n"
   ]
  },
  {
   "cell_type": "code",
   "execution_count": 12,
   "metadata": {},
   "outputs": [],
   "source": [
    "def evaluate_with_kfold_and_normalization(X, y, n_splits=5):\n",
    "  \"\"\"5分割交差検証を使用してモデルを評価する関数（目的変数の正規化付き）\"\"\"\n",
    "  y = normalize_data(y)\n",
    "  kf = KFold(n_splits=n_splits, shuffle=True, random_state=42)\n",
    "  rmses = []\n",
    "\n",
    "  for train_index, test_index in kf.split(X):\n",
    "    X_train, X_test = X.iloc[train_index], X.iloc[test_index]\n",
    "    y_train, y_test = y.iloc[train_index], y.iloc[test_index]\n",
    "\n",
    "    model = train_lightgbm_full(X_train, y_train)\n",
    "    rmse = evaluate_on_test(model, X_test, y_test)\n",
    "    rmses.append(rmse)\n",
    "\n",
    "  return rmses\n",
    "\n",
    "\n",
    "# 正規化区別\n",
    "outStr = ''\n",
    "\n",
    "\n",
    "def shuffle_dataframe(df):\n",
    "  return df.sample(frac=1.0).reset_index(drop=True)"
   ]
  },
  {
   "cell_type": "code",
   "execution_count": 13,
   "metadata": {},
   "outputs": [],
   "source": [
    "outStr += \"train,testを分けて正規化\\n\"\n",
    "train = shuffle_dataframe(get_data_from_directory(os.path.join(DATA_DIR, 'train')))\n",
    "test = shuffle_dataframe(get_data_from_directory(os.path.join(DATA_DIR, 'test')))\n",
    "\n",
    "X_train = train.drop(['oss', 'Sleepiness'], axis=1)\n",
    "y_train_oss = train['oss']\n",
    "y_train_sleepiness = train['Sleepiness']\n",
    "X_test = test.drop(['oss', 'Sleepiness'], axis=1)\n",
    "y_test_oss = test['oss']\n",
    "y_test_sleepiness = test['Sleepiness']\n",
    "\n",
    "oss_kfold_rmses_norm_divided = evaluate_with_kfold_and_normalization(X_train, y_train_oss)\n",
    "outStr += printResults(oss_kfold_rmses_norm_divided, \"lgbm-oss-kfold-normalized-divided\", False)\n",
    "\n",
    "sleepiness_kfold_rmses_norm_divided = evaluate_with_kfold_and_normalization(X_train, y_train_sleepiness)\n",
    "outStr += printResults(sleepiness_kfold_rmses_norm_divided, \"lgbm-sleepiness-kfold-normalized-divided\", False)"
   ]
  },
  {
   "cell_type": "code",
   "execution_count": 14,
   "metadata": {},
   "outputs": [],
   "source": [
    "outStr += \"\\ntrain,testを分けずに正規化\\n\"\n",
    "X_all = shuffle_dataframe(all_data.drop(['oss', 'Sleepiness'], axis=1))\n",
    "y_all_oss = all_data['oss']\n",
    "y_all_sleepiness = all_data['Sleepiness']\n",
    "\n",
    "oss_kfold_rmses_norm = evaluate_with_kfold_and_normalization(X_all, y_all_oss)\n",
    "sleepiness_kfold_rmses_norm = evaluate_with_kfold_and_normalization(X_all, y_all_sleepiness)\n",
    "\n",
    "outStr += printResults(sleepiness_kfold_rmses_norm, 'lgbm-sleepiness-kfold-normalized-full', False)\n",
    "outStr += printResults(oss_kfold_rmses_norm, 'lgbm-oss-kfold-normalized-full', False)"
   ]
  },
  {
   "cell_type": "code",
   "execution_count": 15,
   "metadata": {},
   "outputs": [
    {
     "name": "stdout",
     "output_type": "stream",
     "text": [
      "train,testを分けて正規化\n",
      "[lgbm-oss-kfold-normalized-divided]RMSEの平均値: 0.09519694108360775\n",
      "[lgbm-oss-kfold-normalized-divided]RMSEの最小値: 0.08680661331097099\n",
      "[lgbm-oss-kfold-normalized-divided]RMSEの最大値: 0.1020520511187413\n",
      "[lgbm-sleepiness-kfold-normalized-divided]RMSEの平均値: 0.0698522376620578\n",
      "[lgbm-sleepiness-kfold-normalized-divided]RMSEの最小値: 0.06342449327861141\n",
      "[lgbm-sleepiness-kfold-normalized-divided]RMSEの最大値: 0.07627391987913379\n",
      "\n",
      "train,testを分けずに正規化\n",
      "[lgbm-sleepiness-kfold-normalized-full]RMSEの平均値: 0.26859956930851575\n",
      "[lgbm-sleepiness-kfold-normalized-full]RMSEの最小値: 0.2607842522534266\n",
      "[lgbm-sleepiness-kfold-normalized-full]RMSEの最大値: 0.2756251987352747\n",
      "[lgbm-oss-kfold-normalized-full]RMSEの平均値: 0.22731717795051304\n",
      "[lgbm-oss-kfold-normalized-full]RMSEの最小値: 0.22537494573499295\n",
      "[lgbm-oss-kfold-normalized-full]RMSEの最大値: 0.22863433313686574\n",
      "\n"
     ]
    }
   ],
   "source": [
    "print(outStr)"
   ]
  },
  {
   "cell_type": "markdown",
   "metadata": {},
   "source": [
    "#### \\_\n"
   ]
  },
  {
   "cell_type": "code",
   "execution_count": 16,
   "metadata": {},
   "outputs": [
    {
     "name": "stdout",
     "output_type": "stream",
     "text": [
      "[lgbm-oss-train]RMSEの平均値: 0.12133256979736869\n",
      "[lgbm-oss-train]RMSEの最小値: 0.12133256979736869\n",
      "[lgbm-oss-train]RMSEの最大値: 0.12133256979736869\n",
      "\n",
      "[lgbm-oss-test]RMSEの平均値: 0.9940887616705869\n",
      "[lgbm-oss-test]RMSEの最小値: 0.9940887616705868\n",
      "[lgbm-oss-test]RMSEの最大値: 0.9940887616705868\n",
      "\n",
      "[lgbm-sleepiness-train]RMSEの平均値: 0.21806987053339172\n",
      "[lgbm-sleepiness-train]RMSEの最小値: 0.21806987053339172\n",
      "[lgbm-sleepiness-train]RMSEの最大値: 0.21806987053339172\n",
      "\n",
      "[lgbm-sleepiness-test]RMSEの平均値: 3.075028808969175\n",
      "[lgbm-sleepiness-test]RMSEの最小値: 3.075028808969175\n",
      "[lgbm-sleepiness-test]RMSEの最大値: 3.075028808969175\n",
      "\n"
     ]
    },
    {
     "data": {
      "text/plain": [
       "'[lgbm-sleepiness-test]RMSEの平均値: 3.075028808969175\\n[lgbm-sleepiness-test]RMSEの最小値: 3.075028808969175\\n[lgbm-sleepiness-test]RMSEの最大値: 3.075028808969175\\n'"
      ]
     },
     "execution_count": 16,
     "metadata": {},
     "output_type": "execute_result"
    }
   ],
   "source": [
    "# 元\n",
    "oss_rmses_train, oss_rmses_test = evaluate_trials_with_test(X, train_data['oss'], X_test, test_data['oss'])\n",
    "printResults(oss_rmses_train, 'lgbm-oss-train')\n",
    "printResults(oss_rmses_test, 'lgbm-oss-test')\n",
    "###\n",
    "sleepiness_rmses_train, sleepiness_rmses_test = evaluate_trials_with_test(X, train_data['Sleepiness'], X_test, test_data['Sleepiness'])\n",
    "printResults(sleepiness_rmses_train, 'lgbm-sleepiness-train')\n",
    "printResults(sleepiness_rmses_test, 'lgbm-sleepiness-test')"
   ]
  },
  {
   "cell_type": "code",
   "execution_count": 17,
   "metadata": {},
   "outputs": [
    {
     "name": "stdout",
     "output_type": "stream",
     "text": [
      "[lgbm-sleepiness-kfold-normalized-full]RMSEの平均値: 0.07520984690069096\n",
      "[lgbm-sleepiness-kfold-normalized-full]RMSEの最小値: 0.06829121739978067\n",
      "[lgbm-sleepiness-kfold-normalized-full]RMSEの最大値: 0.08426810056491758\n",
      "\n"
     ]
    },
    {
     "data": {
      "text/plain": [
       "'[lgbm-sleepiness-kfold-normalized-full]RMSEの平均値: 0.07520984690069096\\n[lgbm-sleepiness-kfold-normalized-full]RMSEの最小値: 0.06829121739978067\\n[lgbm-sleepiness-kfold-normalized-full]RMSEの最大値: 0.08426810056491758\\n'"
      ]
     },
     "execution_count": 17,
     "metadata": {},
     "output_type": "execute_result"
    }
   ],
   "source": [
    "# 正規化を分けてみる\n",
    "all_data = pd.concat([train, test], ignore_index=True)\n",
    "\n",
    "\n",
    "def normalize_data(series):\n",
    "  scaler = MinMaxScaler()\n",
    "  series = series.values.reshape(-1, 1)\n",
    "  series = scaler.fit_transform(series)\n",
    "  series = series.ravel()\n",
    "  return pd.Series(series)\n",
    "\n",
    "\n",
    "def evaluate_with_kfold_and_normalization(X, y, n_splits=5):\n",
    "  \"\"\"5分割交差検証を使用してモデルを評価する関数（目的変数の正規化付き）\"\"\"\n",
    "  y = normalize_data(y)\n",
    "  kf = KFold(n_splits=n_splits, shuffle=True, random_state=42)\n",
    "  rmses = []\n",
    "\n",
    "  for train_index, test_index in kf.split(X):\n",
    "    X_train, X_test = X.iloc[train_index], X.iloc[test_index]\n",
    "    y_train, y_test = y.iloc[train_index], y.iloc[test_index]\n",
    "\n",
    "    model = train_lightgbm_full(X_train, y_train)\n",
    "    rmse = evaluate_on_test(model, X_test, y_test)\n",
    "    rmses.append(rmse)\n",
    "\n",
    "  return rmses\n",
    "\n",
    "\n",
    "X_all = all_data.drop(['oss', 'Sleepiness'], axis=1)\n",
    "y_all_oss = all_data['oss']\n",
    "y_all_sleepiness = all_data['Sleepiness']\n",
    "\n",
    "oss_kfold_rmses_norm = evaluate_with_kfold_and_normalization(X_all, y_all_oss)\n",
    "\n",
    "sleepiness_kfold_rmses_norm = evaluate_with_kfold_and_normalization(X_all, y_all_sleepiness)\n",
    "printResults(sleepiness_kfold_rmses_norm, 'lgbm-sleepiness-kfold-normalized-full')"
   ]
  },
  {
   "cell_type": "code",
   "execution_count": 18,
   "metadata": {},
   "outputs": [
    {
     "name": "stdout",
     "output_type": "stream",
     "text": [
      "[lgbm-oss-kfold-normalized-inverse]RMSEの平均値: 0.30742938171984724\n",
      "[lgbm-oss-kfold-normalized-inverse]RMSEの最小値: 0.28849035391558886\n",
      "[lgbm-oss-kfold-normalized-inverse]RMSEの最大値: 0.32946652693290873\n",
      "\n",
      "[lgbm-sleepiness-kfold-normalized-inverse]RMSEの平均値: 0.6016787752055277\n",
      "[lgbm-sleepiness-kfold-normalized-inverse]RMSEの最小値: 0.5463297391982453\n",
      "[lgbm-sleepiness-kfold-normalized-inverse]RMSEの最大値: 0.6741448045193407\n",
      "\n"
     ]
    },
    {
     "data": {
      "text/plain": [
       "'[lgbm-sleepiness-kfold-normalized-inverse]RMSEの平均値: 0.6016787752055277\\n[lgbm-sleepiness-kfold-normalized-inverse]RMSEの最小値: 0.5463297391982453\\n[lgbm-sleepiness-kfold-normalized-inverse]RMSEの最大値: 0.6741448045193407\\n'"
      ]
     },
     "execution_count": 18,
     "metadata": {},
     "output_type": "execute_result"
    }
   ],
   "source": [
    "# 交差検証と正規化（逆変換付き）を組み合わせた関数\n",
    "def evaluate_with_kfold_and_normalization_inverse(X, y, n_splits=5):\n",
    "  \"\"\"5分割交差検証を使用してモデルを評価する関数（目的変数の正規化と逆変換付き）\"\"\"\n",
    "  kf = KFold(n_splits=n_splits, shuffle=True, random_state=42)\n",
    "  rmses = []\n",
    "  scaler = MinMaxScaler()\n",
    "\n",
    "  for train_index, test_index in kf.split(X):\n",
    "    X_train, X_test = X.iloc[train_index], X.iloc[test_index]\n",
    "    y_train, y_test = y.iloc[train_index], y.iloc[test_index]\n",
    "\n",
    "    # 正規化（訓練データでfitし、訓練データとテストデータ両方をtransform）\n",
    "    y_train = y_train.values.reshape(-1, 1)\n",
    "    scaler.fit(y_train)\n",
    "    y_train = scaler.transform(y_train).ravel()\n",
    "    y_test = scaler.transform(y_test.values.reshape(-1, 1)).ravel()\n",
    "\n",
    "    model = train_lightgbm_full(X_train, pd.Series(y_train))  # 既存のtrain_lightgbm_full関数を使用\n",
    "\n",
    "    # 予測値を正規化の逆変換\n",
    "    predictions = model.predict(X_test)\n",
    "    predictions = scaler.inverse_transform(predictions.reshape(-1, 1)).ravel()\n",
    "\n",
    "    # RMSE計算（逆変換後の予測値と元の尺度のテストデータで）\n",
    "    rmse = np.sqrt(mean_squared_error(scaler.inverse_transform(y_test.reshape(-1, 1)), predictions))\n",
    "    rmses.append(rmse)\n",
    "\n",
    "  return rmses\n",
    "\n",
    "\n",
    "# 特徴量と目的変数に分割\n",
    "X_all = all_data.drop(['oss', 'Sleepiness'], axis=1)\n",
    "y_all_oss = all_data['oss']\n",
    "y_all_sleepiness = all_data['Sleepiness']\n",
    "\n",
    "# ossモデルの交差検証（正規化と逆変換付き）\n",
    "oss_kfold_rmses_norm_inv = evaluate_with_kfold_and_normalization_inverse(X_all, y_all_oss)\n",
    "printResults(oss_kfold_rmses_norm_inv, 'lgbm-oss-kfold-normalized-inverse')\n",
    "\n",
    "# Sleepinessモデルの交差検証（正規化と逆変換付き）\n",
    "sleepiness_kfold_rmses_norm_inv = evaluate_with_kfold_and_normalization_inverse(X_all, y_all_sleepiness)\n",
    "printResults(sleepiness_kfold_rmses_norm_inv, 'lgbm-sleepiness-kfold-normalized-inverse')"
   ]
  },
  {
   "cell_type": "markdown",
   "metadata": {},
   "source": [
    "### GNN\n"
   ]
  },
  {
   "cell_type": "code",
   "execution_count": 19,
   "metadata": {},
   "outputs": [],
   "source": [
    "import torch\n",
    "import torch.nn.functional as F\n",
    "from torch_geometric.nn import GCNConv\n",
    "from torch_geometric.data import Data"
   ]
  },
  {
   "cell_type": "code",
   "execution_count": 20,
   "metadata": {},
   "outputs": [],
   "source": [
    "def transform_to_graph_data(X, y):\n",
    "  x = torch.tensor(X.values, dtype=torch.float)\n",
    "  edge_index = torch.tensor([list(range(X.shape[0]-1)), list(range(1, X.shape[0]))], dtype=torch.long)\n",
    "  y = torch.tensor(y.values, dtype=torch.float).view(-1, 1)\n",
    "  data = Data(x=x, edge_index=edge_index, y=y)\n",
    "  return data\n",
    "\n",
    "\n",
    "class SimpleGNN(torch.nn.Module):\n",
    "  def __init__(self, num_features):\n",
    "    super(SimpleGNN, self).__init__()\n",
    "    self.conv1 = GCNConv(num_features, 64)\n",
    "    self.conv2 = GCNConv(64, 32)\n",
    "    self.fc = torch.nn.Linear(32, 1)\n",
    "\n",
    "  def forward(self, data):\n",
    "    x, edge_index = data.x, data.edge_index\n",
    "    x = self.conv1(x, edge_index)\n",
    "    x = F.relu(x)\n",
    "    x = self.conv2(x, edge_index)\n",
    "    x = F.relu(x)\n",
    "    x = self.fc(x)\n",
    "    return x\n",
    "\n",
    "\n",
    "def train_gnn(train_data, num_features):\n",
    "  model = SimpleGNN(num_features=num_features)\n",
    "  optimizer = torch.optim.Adam(model.parameters(), lr=0.01)\n",
    "  for epoch in range(10):\n",
    "    model.train()\n",
    "    optimizer.zero_grad()\n",
    "    out = model(train_data)\n",
    "    loss = torch.nn.MSELoss()(out, train_data.y)\n",
    "    loss.backward()\n",
    "    optimizer.step()\n",
    "  return model\n",
    "\n",
    "\n",
    "def evaluate_gnn_trials(X_train, y_train, X_test, y_test):\n",
    "  train_data = transform_to_graph_data(X_train, y_train)\n",
    "  test_data = transform_to_graph_data(X_test, y_test)\n",
    "  gnn_rmses = []\n",
    "  for _ in range(N_TRIALS):\n",
    "    model = train_gnn(train_data, num_features=X_train.shape[1])\n",
    "    model.eval()\n",
    "    preds = model(test_data)\n",
    "    rmse = np.sqrt(mean_squared_error(y_test, preds.detach().numpy()))\n",
    "    gnn_rmses.append(rmse)\n",
    "  return gnn_rmses"
   ]
  },
  {
   "cell_type": "code",
   "execution_count": 21,
   "metadata": {},
   "outputs": [
    {
     "name": "stdout",
     "output_type": "stream",
     "text": [
      "[gnn-oss]RMSEの平均値: 4.118733474757279\n",
      "[gnn-oss]RMSEの最小値: 0.8064458504799236\n",
      "[gnn-oss]RMSEの最大値: 7.796994657292529\n",
      "\n",
      "[gnn-sleepiness]RMSEの平均値: 4.405072896981996\n",
      "[gnn-sleepiness]RMSEの最小値: 2.190145127694566\n",
      "[gnn-sleepiness]RMSEの最大値: 8.00019198528844\n",
      "\n"
     ]
    },
    {
     "data": {
      "text/plain": [
       "'[gnn-sleepiness]RMSEの平均値: 4.405072896981996\\n[gnn-sleepiness]RMSEの最小値: 2.190145127694566\\n[gnn-sleepiness]RMSEの最大値: 8.00019198528844\\n'"
      ]
     },
     "execution_count": 21,
     "metadata": {},
     "output_type": "execute_result"
    }
   ],
   "source": [
    "train = get_data_from_directory(os.path.join(DATA_DIR, 'train'))\n",
    "test = get_data_from_directory(os.path.join(DATA_DIR, 'test'))\n",
    "\n",
    "X_train = train.drop(['oss', 'Sleepiness'], axis=1)\n",
    "X_test = test.drop(['oss', 'Sleepiness'], axis=1)\n",
    "\n",
    "# ossモデル\n",
    "oss_rmses = evaluate_gnn_trials(X_train, train['oss'], X_test, test['oss'])\n",
    "# print(f\"GNN ossモデルの平均RMSE: {np.mean(oss_rmses)}\")\n",
    "# print(f\"GNN ossモデルのRMSEの標準偏差: {np.std(oss_rmses)}\")\n",
    "printResults(oss_rmses, 'gnn-oss')\n",
    "\n",
    "# Sleepinessモデル\n",
    "sleepiness_rmses = evaluate_gnn_trials(X_train, train['Sleepiness'], X_test, test['Sleepiness'])\n",
    "# def compute_statistics(arr):\n",
    "#     median = np.median(arr)\n",
    "#     mean = np.mean(arr)\n",
    "#     variance = np.var(arr)\n",
    "#     std_dev = np.std(arr)\n",
    "#     range_val = (np.min(arr), np.max(arr))\n",
    "\n",
    "#     return {\n",
    "#         'Median': median,\n",
    "#         'Mean': mean,\n",
    "#         'Variance': variance,\n",
    "#         'Standard Deviation': std_dev,\n",
    "#         'Range': range_val\n",
    "#     }\n",
    "# print(compute_statistics(sleepiness_rmses))\n",
    "# print(f\"GNN sleepinessモデルの平均RMSE: {np.mean(sleepiness_rmses)}\")\n",
    "# print(f\"GNN sleepinessモデルのRMSEの標準偏差: {np.std(sleepiness_rmses)}\")\n",
    "printResults(sleepiness_rmses, 'gnn-sleepiness')"
   ]
  },
  {
   "cell_type": "markdown",
   "metadata": {},
   "source": []
  },
  {
   "cell_type": "code",
   "execution_count": null,
   "metadata": {},
   "outputs": [],
   "source": []
  },
  {
   "cell_type": "code",
   "execution_count": null,
   "metadata": {},
   "outputs": [],
   "source": []
  },
  {
   "cell_type": "markdown",
   "metadata": {},
   "source": [
    "| 中央値 | 平均   | 分散   | 標準偏差 | 範囲              |\n",
    "| ------ | ------ | ------ | -------- | ----------------- |\n",
    "| 4.5862 | 5.0127 | 4.3706 | 2.0906   | (2.0140, 10.5504) |\n"
   ]
  }
 ],
 "metadata": {
  "kernelspec": {
   "display_name": "Python 3 (ipykernel)",
   "language": "python",
   "name": "python3"
  },
  "language_info": {
   "codemirror_mode": {
    "name": "ipython",
    "version": 3
   },
   "file_extension": ".py",
   "mimetype": "text/x-python",
   "name": "python",
   "nbconvert_exporter": "python",
   "pygments_lexer": "ipython3",
   "version": "3.9.16"
  },
  "orig_nbformat": 4
 },
 "nbformat": 4,
 "nbformat_minor": 2
}
