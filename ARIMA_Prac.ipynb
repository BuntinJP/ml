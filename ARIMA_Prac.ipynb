{
 "cells": [
  {
   "cell_type": "code",
   "execution_count": null,
   "metadata": {},
   "outputs": [],
   "source": [
    "import pandas as pd\n",
    "import numpy as np\n",
    "from scipy import signal\n",
    "from statsmodels.tsa.seasonal import seasonal_decompose\n",
    "from statsmodels.tsa.seasonal import STL\n",
    "from statsmodels.tsa.stattools import adfuller\n",
    "from statsmodels.graphics.tsaplots import plot_acf, plot_pacf\n",
    "import matplotlib.pyplot as plt\n",
    "import pmdarima as pm\n",
    "from pmdarima import utils\n",
    "from pmdarima import arima\n",
    "from pmdarima import model_selection\n",
    "from statsmodels.tsa.statespace.sarimax import SARIMAX\n",
    "import optuna\n",
    "from prophet import Prophet\n",
    "from prophet.diagnostics import cross_validation\n",
    "from prophet.diagnostics import performance_metrics"
   ]
  },
  {
   "cell_type": "code",
   "execution_count": null,
   "metadata": {},
   "outputs": [],
   "source": [
    "url = 'https://www.salesanalytics.co.jp/591h'  # データセットのあるURL\n",
    "df = pd.read_csv(url,  # 読み込むデータのURL\n",
    "                 index_col='Month',  # 変数「Month」をインデックスに設定\n",
    "                 parse_dates=True)  # インデックスを日付型に設定"
   ]
  },
  {
   "cell_type": "code",
   "execution_count": null,
   "metadata": {},
   "outputs": [],
   "source": [
    "plt.plot(np.diff(df.Passengers))\n",
    "# plt.plot(df.Passengers.diff(1)) こちらでもOK\n"
   ]
  },
  {
   "cell_type": "code",
   "execution_count": null,
   "metadata": {},
   "outputs": [],
   "source": [
    "plt.plot(np.diff(df.Passengers, n=2))\n"
   ]
  },
  {
   "cell_type": "code",
   "execution_count": null,
   "metadata": {},
   "outputs": [],
   "source": [
    "plt.plot(np.log(df.Passengers))\n"
   ]
  },
  {
   "cell_type": "code",
   "execution_count": null,
   "metadata": {},
   "outputs": [],
   "source": [
    "# 対数を取ったものにADF検定（原系列）\n",
    "dftest = adfuller(np.log(df.Passengers))\n",
    "print('ADF Statistic: %f' % dftest[0]) #検定統計量の表示\n",
    "print('p-value: %f' % dftest[1])\n"
   ]
  },
  {
   "cell_type": "code",
   "execution_count": null,
   "metadata": {},
   "outputs": [],
   "source": [
    "plt.plot(np.diff(np.log(df.Passengers)))\n"
   ]
  },
  {
   "cell_type": "code",
   "execution_count": null,
   "metadata": {},
   "outputs": [],
   "source": [
    "plt.plot(np.diff(np.log(df.Passengers)))\n"
   ]
  },
  {
   "cell_type": "code",
   "execution_count": null,
   "metadata": {},
   "outputs": [],
   "source": [
    "# 対数変換後、階差をとったものにADF検定\n",
    "dftest = adfuller(np.diff(np.log(df.Passengers)))\n",
    "print('ADF Statistic: %f' % dftest[0])\n",
    "print('p-value: %f' % dftest[1])\n"
   ]
  },
  {
   "cell_type": "code",
   "execution_count": null,
   "metadata": {},
   "outputs": [],
   "source": [
    "plt.plot(np.diff(np.log(df.Passengers), n=2))\n"
   ]
  },
  {
   "cell_type": "code",
   "execution_count": null,
   "metadata": {},
   "outputs": [],
   "source": [
    "dftest = adfuller(np.diff(np.log(df.Passengers),n=2))\n",
    "print('ADF Statistic: %f' % dftest[0]) #検定統計量を表示させる\n",
    "print('p-value: %f' % dftest[1])\n",
    "print('Critical values :') \n",
    "for k, v in dftest[4].items(): #1%,5%,10%信頼区間を表示させている\n",
    "    print('\\t', k, v)\n"
   ]
  },
  {
   "cell_type": "code",
   "execution_count": null,
   "metadata": {},
   "outputs": [],
   "source": [
    "data = np.log(df.Passengers)\n",
    "plt.plot(data.diff(6))\n",
    "plt.show()\n"
   ]
  },
  {
   "cell_type": "code",
   "execution_count": null,
   "metadata": {},
   "outputs": [],
   "source": [
    "data = np.log(df.Passengers)\n",
    "plt.plot(data.diff(12))\n",
    "plt.show()\n"
   ]
  },
  {
   "cell_type": "code",
   "execution_count": null,
   "metadata": {},
   "outputs": [],
   "source": [
    "# 対数化後、階差数列化後、季節階差を除いたものにADF検定\n",
    "dftest = adfuller(pd.DataFrame(np.diff(np.log(df.Passengers))).diff(12).dropna())\n",
    "print('p-value: %f' % dftest[1])\n"
   ]
  },
  {
   "cell_type": "code",
   "execution_count": null,
   "metadata": {},
   "outputs": [],
   "source": [
    "# 原系列\n",
    "plot_acf(df.Passengers, lags=20)\n",
    "plot_pacf(df.Passengers, lags=20)\n"
   ]
  },
  {
   "cell_type": "code",
   "execution_count": null,
   "metadata": {},
   "outputs": [],
   "source": [
    "# 対数化後、階差数列化後、季節階差を除いたもの\n",
    "syori_dt = pd.DataFrame(np.diff(np.log(df.Passengers))).diff(12).dropna()\n",
    "acf = plot_acf(syori_dt, lags=20)\n",
    "pacf = plot_pacf(syori_dt, lags=20)\n"
   ]
  },
  {
   "cell_type": "code",
   "execution_count": null,
   "metadata": {},
   "outputs": [],
   "source": [
    "arima_model = pm.auto_arima(train,\n",
    "                            seasonal=True,\n",
    "                            m=12,\n",
    "                            trace=True,\n",
    "                            n_jobs=-1,\n",
    "                            maxiter=10)\n",
    "\n",
    "\n",
    "df_train, df_test = model_selection.train_test_split(df, test_size=12)\n",
    "\n",
    "# 予測\n",
    "# 学習データの期間の予測値\n",
    "train_pred = arima_model.predict_in_sample()\n",
    "# テストデータの期間の予測値\n",
    "test_pred, test_pred_ci = arima_model.predict(\n",
    "    n_periods=df_test.shape[0],\n",
    "    return_conf_int=True\n",
    ")\n",
    "# テストデータで精度検証\n",
    "print('RMSE:')\n",
    "print(np.sqrt(mean_squared_error(df_test, test_pred)))\n",
    "print('MAE:')\n",
    "print(mean_absolute_error(df_test, test_pred))\n",
    "print('MAPE:')\n",
    "print(mean_absolute_percentage_error(df_test, test_pred))\n",
    "\n",
    "# グラフ化\n",
    "fig, ax = plt.subplots()\n",
    "ax.plot(df_train[24:].index, df_train[24:].values, label=\"actual(train dataset)\")\n",
    "ax.plot(df_test.index, df_test.values, label=\"actual(test dataset)\", color=\"gray\")\n",
    "ax.plot(df_train[24:].index, train_pred[24:], color=\"c\")\n",
    "ax.plot(df_test.index, test_pred, label=\"auto ARIMA\", color=\"c\")\n",
    "ax.fill_between(\n",
    "    df_test.index,\n",
    "    test_pred_ci[:, 0],\n",
    "    test_pred_ci[:, 1],\n",
    "    color='c',\n",
    "    alpha=.2)\n",
    "ax.legend()"
   ]
  },
  {
   "cell_type": "code",
   "execution_count": null,
   "metadata": {},
   "outputs": [],
   "source": []
  }
 ],
 "metadata": {
  "kernelspec": {
   "display_name": "jupyter-env",
   "language": "python",
   "name": "python3"
  },
  "language_info": {
   "codemirror_mode": {
    "name": "ipython",
    "version": 3
   },
   "file_extension": ".py",
   "mimetype": "text/x-python",
   "name": "python",
   "nbconvert_exporter": "python",
   "pygments_lexer": "ipython3",
   "version": "3.9.18"
  }
 },
 "nbformat": 4,
 "nbformat_minor": 2
}
