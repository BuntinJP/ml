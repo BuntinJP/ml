{
 "cells": [
  {
   "cell_type": "code",
   "execution_count": 1,
   "metadata": {},
   "outputs": [],
   "source": [
    "import numpy as np\n",
    "import matplotlib.pyplot as plt\n",
    "import matplotlib.animation\n",
    "from sklearn.linear_model import SGDClassifier\n"
   ]
  },
  {
   "cell_type": "code",
   "execution_count": 2,
   "metadata": {},
   "outputs": [
    {
     "data": {
      "image/png": "[encoded data removed]",
      "text/plain": [
       "<Figure size 640x480 with 1 Axes>"
      ]
     },
     "metadata": {},
     "output_type": "display_data"
    }
   ],
   "source": [
    "def G(x):\n",
    "  if -5 <= x < 4:\n",
    "    i = int(x + 5)\n",
    "    return [-1, 0, 1, 0, -1, 1, 0, 1, -1][i]\n",
    "  else:\n",
    "    return 0\n",
    "\n",
    "\n",
    "def plot(ax, f):\n",
    "  X = np.linspace(-4.5, 3.5, 1000)\n",
    "  Y = f(X)\n",
    "\n",
    "  ax.plot(X, Y, '-')\n",
    "  ax.set_xlabel('$x$')\n",
    "  ax.set_ylabel('$y$')\n",
    "  ax.set_aspect('equal')\n",
    "\n",
    "\n",
    "fig, ax = plt.subplots()\n",
    "g = np.vectorize(G)\n",
    "plot(ax, g)\n",
    "plt.show()\n"
   ]
  }
 ],
 "metadata": {
  "kernelspec": {
   "display_name": "Python 3 (ipykernel)",
   "language": "python",
   "name": "python3"
  },
  "language_info": {
   "codemirror_mode": {
    "name": "ipython",
    "version": 3
   },
   "file_extension": ".py",
   "mimetype": "text/x-python",
   "name": "python",
   "nbconvert_exporter": "python",
   "pygments_lexer": "ipython3",
   "version": "3.9.16"
  },
  "orig_nbformat": 4
 },
 "nbformat": 4,
 "nbformat_minor": 2
}
