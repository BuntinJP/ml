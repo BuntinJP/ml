{
 "cells": [
  {
   "cell_type": "code",
   "execution_count": null,
   "id": "a47def86-5689-4cb9-a810-d42d4c9298f3",
   "metadata": {},
   "outputs": [],
   "source": [
    "print(\"a\");"
   ]
  }
 ],
 "metadata": {
  "kernelspec": {
   "display_name": "Python 3 (ipykernel)",
   "language": "python",
   "name": "python3"
  },
  "language_info": {
   "codemirror_mode": {
    "name": "ipython",
    "version": 3
   },
   "file_extension": ".py",
   "mimetype": "text/x-python",
   "name": "python",
   "nbconvert_exporter": "python",
   "pygments_lexer": "ipython3",
   "version": "3.11.2"
  }
 },
 "nbformat": 4,
 "nbformat_minor": 5
}
