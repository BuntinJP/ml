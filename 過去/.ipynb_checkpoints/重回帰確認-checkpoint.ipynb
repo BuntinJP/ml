{
 "cells": [
  {
   "cell_type": "code",
   "execution_count": 1,
   "id": "089bff83-9097-4f15-8d20-d8339fb0f893",
   "metadata": {
    "tags": []
   },
   "outputs": [],
   "source": [
    "import numpy as np\n",
    "from numpy.polynomial import Polynomial\n",
    "import numpy as np\n",
    "import matplotlib.pyplot as plt\n",
    "import matplotlib.patches\n",
    "import matplotlib.colors\n",
    "import matplotlib.animation\n",
    "from IPython.display import HTML\n",
    "import japanize_matplotlib\n"
   ]
  },
  {
   "cell_type": "markdown",
   "id": "9cf96c28-f381-452f-83b0-0904c6165e17",
   "metadata": {},
   "source": [
    "## 確認問題"
   ]
  },
  {
   "cell_type": "code",
   "execution_count": 9,
   "id": "66ce923b-3300-49ec-a130-a69aa72c6016",
   "metadata": {
    "tags": []
   },
   "outputs": [],
   "source": [
    "import numpy as np\n",
    "import pandas as pd\n",
    "\n",
    "D = np.array([[1, 3], [3, 6], [6, 5], [8, 7]])\n",
    "X = D[:, 0]\n",
    "Y = D[:, 1]"
   ]
  },
  {
   "cell_type": "code",
   "execution_count": 10,
   "id": "4d683f4a-f456-4758-b305-336191d6ef9e",
   "metadata": {
    "tags": []
   },
   "outputs": [],
   "source": [
    "class MultipleRegression():\n",
    "    def __init__(self, add_constant=True):\n",
    "        self.w = None\n",
    "        self.add_constant = add_constant\n",
    "        \n",
    "    def train(self, examples):\n",
    "        x = examples[:,:-1]\n",
    "        if self.add_constant:\n",
    "            x = np.hstack([np.ones(len(x)).reshape((-1, 1)), x])\n",
    "        y = examples[:,-1].reshape((-1, 1))\n",
    "        self.w = np.linalg.inv(x.T @ x) @ x.T @ y\n",
    "        return self\n",
    "    \n",
    "    def predict(self, x):\n",
    "        if len(x.shape) == 1:\n",
    "            x = x.reshape((-1, 1))\n",
    "        if self.add_constant:\n",
    "            x = np.hstack([np.ones(len(x)).reshape((-1, 1)), x])\n",
    "        return (x @ self.w).flatten()\n"
   ]
  },
  {
   "cell_type": "markdown",
   "id": "c6ad83cb-8379-4306-a2a0-f1d02de16225",
   "metadata": {},
   "source": [
    "### (1) 行列による一次関数のパラメータ推定"
   ]
  },
  {
   "cell_type": "code",
   "execution_count": 11,
   "id": "c4cab4d4-c9b8-44eb-be51-78e5493201a0",
   "metadata": {
    "tags": []
   },
   "outputs": [
    {
     "data": {
      "text/plain": [
       "array([[3.31034483],\n",
       "       [0.43103448]])"
      ]
     },
     "execution_count": 11,
     "metadata": {},
     "output_type": "execute_result"
    }
   ],
   "source": [
    "model = MultipleRegression().train(D)\n",
    "model.w"
   ]
  },
  {
   "cell_type": "code",
   "execution_count": 12,
   "id": "64834c52-f449-4f8c-93dc-a515d7477db3",
   "metadata": {
    "tags": []
   },
   "outputs": [
    {
     "data": {
      "text/latex": [
       "$x \\mapsto \\text{3.31034483} + \\text{0.43103448}\\,x$"
      ],
      "text/plain": [
       "Polynomial([3.31034483, 0.43103448], domain=[-1.,  1.], window=[-1.,  1.], symbol='x')"
      ]
     },
     "execution_count": 12,
     "metadata": {},
     "output_type": "execute_result"
    }
   ],
   "source": [
    "from numpy.polynomial import Polynomial\n",
    "w = Polynomial.fit(X, Y, deg=1).convert()\n",
    "np.testing.assert_allclose(model.w.flatten(), w.coef)\n",
    "w"
   ]
  },
  {
   "cell_type": "markdown",
   "id": "d925d856-71f6-444c-bafc-d352e7219dbb",
   "metadata": {
    "tags": []
   },
   "source": [
    "### (2)　2次関数による重回帰"
   ]
  },
  {
   "cell_type": "code",
   "execution_count": 13,
   "id": "c3587b61-4bb0-4e04-b82d-ff05e008fbf5",
   "metadata": {
    "tags": []
   },
   "outputs": [
    {
     "data": {
      "text/plain": [
       "array([[ 1,  1,  3],\n",
       "       [ 3,  9,  6],\n",
       "       [ 6, 36,  5],\n",
       "       [ 8, 64,  7]])"
      ]
     },
     "execution_count": 13,
     "metadata": {},
     "output_type": "execute_result"
    }
   ],
   "source": [
    "X_squred_examples = np.vstack([X, X**2, Y]).T\n",
    "X_squred_examples"
   ]
  },
  {
   "cell_type": "code",
   "execution_count": 14,
   "id": "87a98e2c-6e92-4a14-92a2-23d6e8f6d7ff",
   "metadata": {
    "tags": []
   },
   "outputs": [
    {
     "data": {
      "text/plain": [
       "array([[ 2.66034483],\n",
       "       [ 0.88103448],\n",
       "       [-0.05      ]])"
      ]
     },
     "execution_count": 14,
     "metadata": {},
     "output_type": "execute_result"
    }
   ],
   "source": [
    "model2 = MultipleRegression().train(X_squred_examples)\n",
    "model2.w"
   ]
  },
  {
   "cell_type": "code",
   "execution_count": 15,
   "id": "d2b767f8-a390-4d5c-89d0-50f0307c4065",
   "metadata": {
    "tags": []
   },
   "outputs": [
    {
     "data": {
      "text/plain": [
       "array([ 2.66034483,  0.88103448, -0.05      ])"
      ]
     },
     "execution_count": 15,
     "metadata": {},
     "output_type": "execute_result"
    }
   ],
   "source": [
    "# 検算\n",
    "from sklearn.linear_model import LinearRegression\n",
    "from sklearn.preprocessing import PolynomialFeatures\n",
    "from sklearn.pipeline import make_pipeline\n",
    "\n",
    "\n",
    "pipeline = make_pipeline(PolynomialFeatures(2, include_bias=False), LinearRegression())\n",
    "pipeline.fit(X.reshape(-1, 1), Y)\n",
    "w2 = np.hstack([np.array([pipeline[-1].intercept_]), pipeline[-1].coef_])\n",
    "np.testing.assert_allclose(model2.w.flatten(), w2)\n",
    "w2"
   ]
  },
  {
   "cell_type": "markdown",
   "id": "f3bef216-5599-4b5b-a7a9-ad2c2939b175",
   "metadata": {},
   "source": [
    "#### (3) 以上で求めた二次関数をプロット"
   ]
  },
  {
   "cell_type": "code",
   "execution_count": 16,
   "id": "c291d168-8d6e-4f55-9cbf-64060a69d47f",
   "metadata": {
    "tags": []
   },
   "outputs": [
    {
     "data": {
      "image/png": "[encoded data removed]",
      "text/plain": [
       "<Figure size 600x600 with 1 Axes>"
      ]
     },
     "metadata": {},
     "output_type": "display_data"
    }
   ],
   "source": [
    "fig, ax = plt.subplots(dpi=100, figsize=(6, 6))\n",
    "W = model2.w\n",
    "ax.scatter(D[:,0], D[:,1], marker='o')\n",
    "# y = 0.09 * x^3 + (-1.27) * x^2 + 5.41 * x + (-1.23)\n",
    "x = np.linspace(0, 10, 500)\n",
    "mlabel = '$y$ = ' + str(round(W[2][0],3)) + '$x^2 + $' + str(round(W[1][0],3)) + '$x$ + ' + str(round(W[0][0],3))\n",
    "ax.plot(x,   W[2] * x ** 2 + W[1] * x +W[0], 'tab:red', ls='-', label=mlabel)\n",
    "ax.set_xlabel('$x$')\n",
    "ax.set_ylabel('$y$')\n",
    "ax.set_xlim(0, 10)\n",
    "ax.set_ylim(0, 10)\n",
    "ax.set_aspect('equal')\n",
    "ax.grid()\n",
    "plt.legend(loc='upper left')\n",
    "plt.show()"
   ]
  },
  {
   "cell_type": "markdown",
   "id": "7104f22b-dce3-4c56-8c60-54ca07a0899e",
   "metadata": {},
   "source": [
    "### (4) 決定係数"
   ]
  },
  {
   "cell_type": "code",
   "execution_count": 17,
   "id": "dbd8cf3a-0d87-4c78-9f8a-dff0f0091857",
   "metadata": {
    "tags": []
   },
   "outputs": [
    {
     "data": {
      "text/plain": [
       "0.6443349753694584"
      ]
     },
     "execution_count": 17,
     "metadata": {},
     "output_type": "execute_result"
    }
   ],
   "source": [
    "r2 = 1 - np.var(Y - model2.predict(X_squred_examples[:, :-1])) / np.var(Y)\n",
    "r2"
   ]
  },
  {
   "cell_type": "code",
   "execution_count": 18,
   "id": "e1bc2230-106e-4cd0-8e03-691d3309ecb6",
   "metadata": {
    "tags": []
   },
   "outputs": [
    {
     "data": {
      "text/plain": [
       "0.6443349753694584"
      ]
     },
     "execution_count": 18,
     "metadata": {},
     "output_type": "execute_result"
    }
   ],
   "source": [
    "# 検算\n",
    "from sklearn.metrics import r2_score\n",
    "\n",
    "r2_2 = r2_score(Y,model2.predict(X_squred_examples[:, :-1]))\n",
    "r2"
   ]
  },
  {
   "cell_type": "markdown",
   "id": "be6ffa9c-c411-438b-be6d-61c33ca5c370",
   "metadata": {},
   "source": [
    "### (5) 3次関数による重回帰"
   ]
  },
  {
   "cell_type": "code",
   "execution_count": 19,
   "id": "dadb7c40-73fd-4e37-ad11-ab45f0557292",
   "metadata": {
    "tags": []
   },
   "outputs": [
    {
     "data": {
      "text/plain": [
       "array([[  1,   1,   1,   3],\n",
       "       [  3,   9,  27,   6],\n",
       "       [  6,  36, 216,   5],\n",
       "       [  8,  64, 512,   7]])"
      ]
     },
     "execution_count": 19,
     "metadata": {},
     "output_type": "execute_result"
    }
   ],
   "source": [
    "X_cubed_examples = np.vstack([X, X**2, X**3, Y]).T\n",
    "X_cubed_examples"
   ]
  },
  {
   "cell_type": "code",
   "execution_count": 20,
   "id": "22968139-a920-4d2c-9629-a0534f5d6ef3",
   "metadata": {
    "tags": []
   },
   "outputs": [
    {
     "data": {
      "text/plain": [
       "array([[-1.22857143],\n",
       "       [ 5.40952381],\n",
       "       [-1.27142857],\n",
       "       [ 0.09047619]])"
      ]
     },
     "execution_count": 20,
     "metadata": {},
     "output_type": "execute_result"
    }
   ],
   "source": [
    "model3 = MultipleRegression().train(X_cubed_examples)\n",
    "model3.w"
   ]
  },
  {
   "cell_type": "code",
   "execution_count": 21,
   "id": "3ddcff4a-17dc-4c78-952f-f5fb38e33f43",
   "metadata": {
    "tags": []
   },
   "outputs": [
    {
     "data": {
      "text/plain": [
       "array([-1.22857143,  5.40952381, -1.27142857,  0.09047619])"
      ]
     },
     "execution_count": 21,
     "metadata": {},
     "output_type": "execute_result"
    }
   ],
   "source": [
    "#検算\n",
    "pipeline = make_pipeline(PolynomialFeatures(3), LinearRegression())\n",
    "pipeline.fit(X.reshape(-1, 1), Y)\n",
    "w3 = np.hstack([np.array([pipeline[-1].intercept_]), pipeline[-1].coef_[1:]])\n",
    "w3"
   ]
  },
  {
   "cell_type": "markdown",
   "id": "7694e039-93f3-45d3-b0b5-79e4db8e3d84",
   "metadata": {},
   "source": [
    "# (6) 回帰曲線のプロット"
   ]
  },
  {
   "cell_type": "code",
   "execution_count": 22,
   "id": "d36deb33-09ee-4eb4-95c1-1524320de845",
   "metadata": {
    "tags": []
   },
   "outputs": [
    {
     "data": {
      "image/png": "[encoded data removed]",
      "text/plain": [
       "<Figure size 600x600 with 1 Axes>"
      ]
     },
     "metadata": {},
     "output_type": "display_data"
    }
   ],
   "source": [
    "fig, ax = plt.subplots(dpi=100, figsize=(6, 6))\n",
    "W = model3.w\n",
    "ax.scatter(D[:,0], D[:,1], marker='o')\n",
    "x = np.linspace(0, 10, 500)\n",
    "mlabel = '$y$ = ' + str(round(W[3][0],3)) + '$x^3 + $' + str(round(W[2][0],3)) + '$x^2 + $' + str(round(W[1][0],3)) + '$x$ + ' + str(round(W[0][0],3))\n",
    "ax.plot(x,   W[3] * x ** 3 + W[2] * x ** 2 + W[1] * x +W[0], 'tab:red', ls='-', label=mlabel)\n",
    "ax.set_xlabel('$x$')\n",
    "ax.set_ylabel('$y$')\n",
    "ax.set_xlim(0, 10)\n",
    "ax.set_ylim(0, 10)\n",
    "ax.set_aspect('equal')\n",
    "ax.grid()\n",
    "plt.legend(loc='upper left')\n",
    "plt.show()"
   ]
  },
  {
   "cell_type": "markdown",
   "id": "5a5d2dd4-cb17-4a69-b65a-d85775c2e275",
   "metadata": {},
   "source": [
    "### (7)　決定係数"
   ]
  },
  {
   "cell_type": "code",
   "execution_count": 23,
   "id": "26e96ffe-f0bf-4cb9-b5cd-f78e0997e31c",
   "metadata": {
    "tags": []
   },
   "outputs": [
    {
     "data": {
      "text/plain": [
       "1.0"
      ]
     },
     "execution_count": 23,
     "metadata": {},
     "output_type": "execute_result"
    }
   ],
   "source": [
    "r2 = 1 - np.var(Y - model3.predict(X_cubed_examples[:, :-1])) / np.var(Y)\n",
    "r2"
   ]
  },
  {
   "cell_type": "code",
   "execution_count": 24,
   "id": "59b36629-5f7c-4de4-b25b-eabc88dee0c9",
   "metadata": {
    "tags": []
   },
   "outputs": [
    {
     "data": {
      "text/plain": [
       "1.0"
      ]
     },
     "execution_count": 24,
     "metadata": {},
     "output_type": "execute_result"
    }
   ],
   "source": [
    "# 検算\n",
    "r2= r2_score(Y,model3.predict(X_cubed_examples[:, :-1]))\n",
    "r2"
   ]
  },
  {
   "cell_type": "code",
   "execution_count": null,
   "id": "b0eb13bc-3fd3-4f66-a323-355e59863299",
   "metadata": {},
   "outputs": [],
   "source": []
  }
 ],
 "metadata": {
  "@deathbeds/jupyterlab-fonts": {
   "fontLicenses": {
    "Anonymous Pro Regular": {
     "holders": [
      "Copyright (c) 2009, Mark Simonson (http://www.ms-studio.com, mark@marksimonson.com), with Reserved Font Name Anonymous Pro Minus."
     ],
     "name": "SIL Open Font License 1.1",
     "spdx": "OFL-1.1",
     "text": "Copyright (c) 2009, Mark Simonson (http://www.ms-studio.com, mark@marksimonson.com),\nwith Reserved Font Name Anonymous Pro Minus.\n\nThis Font Software is licensed under the SIL Open Font License, Version 1.1.\nThis license is copied below, and is also available with a FAQ at:\nhttp://scripts.sil.org/OFL\n\n\n-----------------------------------------------------------\nSIL OPEN FONT LICENSE Version 1.1 - 26 February 2007\n-----------------------------------------------------------\n\nPREAMBLE\nThe goals of the Open Font License (OFL) are to stimulate worldwide\ndevelopment of collaborative font projects, to support the font creation\nefforts of academic and linguistic communities, and to provide a free and\nopen framework in which fonts may be shared and improved in partnership\nwith others.\n\nThe OFL allows the licensed fonts to be used, studied, modified and\nredistributed freely as long as they are not sold by themselves. The\nfonts, including any derivative works, can be bundled, embedded,\nredistributed and/or sold with any software provided that any reserved\nnames are not used by derivative works. The fonts and derivatives,\nhowever, cannot be released under any other type of license. The\nrequirement for fonts to remain under this license does not apply\nto any document created using the fonts or their derivatives.\n\nDEFINITIONS\n\"Font Software\" refers to the set of files released by the Copyright\nHolder(s) under this license and clearly marked as such. This may\ninclude source files, build scripts and documentation.\n\n\"Reserved Font Name\" refers to any names specified as such after the\ncopyright statement(s).\n\n\"Original Version\" refers to the collection of Font Software components as\ndistributed by the Copyright Holder(s).\n\n\"Modified Version\" refers to any derivative made by adding to, deleting,\nor substituting -- in part or in whole -- any of the components of the\nOriginal Version, by changing formats or by porting the Font Software to a\nnew environment.\n\n\"Author\" refers to any designer, engineer, programmer, technical\nwriter or other person who contributed to the Font Software.\n\nPERMISSION & CONDITIONS\nPermission is hereby granted, free of charge, to any person obtaining\na copy of the Font Software, to use, study, copy, merge, embed, modify,\nredistribute, and sell modified and unmodified copies of the Font\nSoftware, subject to the following conditions:\n\n1) Neither the Font Software nor any of its individual components,\nin Original or Modified Versions, may be sold by itself.\n\n2) Original or Modified Versions of the Font Software may be bundled,\nredistributed and/or sold with any software, provided that each copy\ncontains the above copyright notice and this license. These can be\nincluded either as stand-alone text files, human-readable headers or\nin the appropriate machine-readable metadata fields within text or\nbinary files as long as those fields can be easily viewed by the user.\n\n3) No Modified Version of the Font Software may use the Reserved Font\nName(s) unless explicit written permission is granted by the corresponding\nCopyright Holder. This restriction only applies to the primary font name as\npresented to the users.\n\n4) The name(s) of the Copyright Holder(s) or the Author(s) of the Font\nSoftware shall not be used to promote, endorse or advertise any\nModified Version, except to acknowledge the contribution(s) of the\nCopyright Holder(s) and the Author(s) or with their explicit written\npermission.\n\n5) The Font Software, modified or unmodified, in part or in whole,\nmust be distributed entirely under this license, and must not be\ndistributed under any other license. The requirement for fonts to\nremain under this license does not apply to any document created\nusing the Font Software.\n\nTERMINATION\nThis license becomes null and void if any of the above conditions are\nnot met.\n\nDISCLAIMER\nTHE FONT SOFTWARE IS PROVIDED \"AS IS\", WITHOUT WARRANTY OF ANY KIND,\nEXPRESS OR IMPLIED, INCLUDING BUT NOT LIMITED TO ANY WARRANTIES OF\nMERCHANTABILITY, FITNESS FOR A PARTICULAR PURPOSE AND NONINFRINGEMENT\nOF COPYRIGHT, PATENT, TRADEMARK, OR OTHER RIGHT. IN NO EVENT SHALL THE\nCOPYRIGHT HOLDER BE LIABLE FOR ANY CLAIM, DAMAGES OR OTHER LIABILITY,\nINCLUDING ANY GENERAL, SPECIAL, INDIRECT, INCIDENTAL, OR CONSEQUENTIAL\nDAMAGES, WHETHER IN AN ACTION OF CONTRACT, TORT OR OTHERWISE, ARISING\nFROM, OUT OF THE USE OR INABILITY TO USE THE FONT SOFTWARE OR FROM\nOTHER DEALINGS IN THE FONT SOFTWARE.\n"
    }
   },
   "fonts": {
    "Anonymous Pro Regular": [
     {
      "fontFamily": "'Anonymous Pro Regular'",
      "src": "url('data:font/woff2;charset=utf-8;base64,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') format('woff2')"
     }
    ]
   },
   "styles": {
    ":root": {
     "--jp-code-font-family": "'Anonymous Pro Regular'",
     "--jp-code-font-size": "15px",
     "--jp-code-line-height": "1.25"
    }
   }
  },
  "kernelspec": {
   "display_name": "Python 3 (ipykernel)",
   "language": "python",
   "name": "python3"
  },
  "language_info": {
   "codemirror_mode": {
    "name": "ipython",
    "version": 3
   },
   "file_extension": ".py",
   "mimetype": "text/x-python",
   "name": "python",
   "nbconvert_exporter": "python",
   "pygments_lexer": "ipython3",
   "version": "3.11.2"
  }
 },
 "nbformat": 4,
 "nbformat_minor": 5
}
