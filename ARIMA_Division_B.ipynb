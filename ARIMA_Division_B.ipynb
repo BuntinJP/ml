{
 "cells": [
  {
   "cell_type": "code",
   "execution_count": 2,
   "metadata": {},
   "outputs": [],
   "source": [
    "import pandas as pd\n",
    "import numpy as np\n",
    "from statsmodels.tsa.arima.model import ARIMA\n",
    "from sklearn.preprocessing import MinMaxScaler\n",
    "from sklearn.metrics import mean_squared_error\n",
    "import matplotlib.pyplot as plt\n",
    "from os import path\n",
    "import os\n",
    "import pandas as pd\n",
    "from statsmodels.tsa.stattools import adfuller\n",
    "import warnings\n",
    "from statsmodels.tools.sm_exceptions import ValueWarning\n",
    "\n",
    "warnings.filterwarnings(\"ignore\", category=ValueWarning)\n",
    "warnings.filterwarnings(\"ignore\", category=FutureWarning)"
   ]
  },
  {
   "cell_type": "code",
   "execution_count": 3,
   "metadata": {},
   "outputs": [],
   "source": [
    "features = [\n",
    "    \"m_speed_stddev_480\",\n",
    "    \"m_acceleration_stddev_480\",\n",
    "    \"m_jerk_stddev_480\",\n",
    "    \"m_steering_stddev_480\",\n",
    "    \"AccelInput_stddev_480\",\n",
    "    \"BrakeInput_stddev_480\",\n",
    "    \"realtime steering entropy_1100\",\n",
    "    \"realtime steering entropy_1100_stddev_480\",\n",
    "    \"perclos\",\n",
    "]\n",
    "TRAIN_DIR = 'dms_data/train/'\n",
    "TEST_DIR = 'dms_data/test/'"
   ]
  },
  {
   "cell_type": "code",
   "execution_count": 4,
   "metadata": {},
   "outputs": [
    {
     "name": "stdout",
     "output_type": "stream",
     "text": [
      "[['feature1', 'feature2'], ['feature1', 'feature3'], ['feature1', 'feature4'], ['feature2', 'feature3'], ['feature2', 'feature4'], ['feature3', 'feature4']]\n"
     ]
    }
   ],
   "source": [
    "import itertools\n",
    "\n",
    "def generate_combinations(features, number): return [list(combination) for combination in itertools.combinations(features, number)]\n",
    "\n",
    "# Example usage:\n",
    "sample_features = [\"feature1\", \"feature2\", \"feature3\", \"feature4\"]\n",
    "number = 2\n",
    "combinations = generate_combinations(sample_features, number)\n",
    "print(combinations)"
   ]
  },
  {
   "cell_type": "code",
   "execution_count": 5,
   "metadata": {},
   "outputs": [
    {
     "name": "stdout",
     "output_type": "stream",
     "text": [
      "0.37060000000000004\n"
     ]
    }
   ],
   "source": [
    "def avg(list):\n",
    "    return sum(list)/len(list)\n",
    "print(avg([0.308,0.261,0.637 ,0.511,0.136]))"
   ]
  },
  {
   "cell_type": "code",
   "execution_count": null,
   "metadata": {},
   "outputs": [],
   "source": []
  }
 ],
 "metadata": {
  "kernelspec": {
   "display_name": "jupyter-env",
   "language": "python",
   "name": "python3"
  },
  "language_info": {
   "codemirror_mode": {
    "name": "ipython",
    "version": 3
   },
   "file_extension": ".py",
   "mimetype": "text/x-python",
   "name": "python",
   "nbconvert_exporter": "python",
   "pygments_lexer": "ipython3",
   "version": "3.9.18"
  }
 },
 "nbformat": 4,
 "nbformat_minor": 2
}
